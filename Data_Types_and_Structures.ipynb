{
  "nbformat": 4,
  "nbformat_minor": 0,
  "metadata": {
    "colab": {
      "provenance": [],
      "authorship_tag": "ABX9TyMFUbA+33udIwI6hPSF76sB",
      "include_colab_link": true
    },
    "kernelspec": {
      "name": "python3",
      "display_name": "Python 3"
    },
    "language_info": {
      "name": "python"
    }
  },
  "cells": [
    {
      "cell_type": "markdown",
      "metadata": {
        "id": "view-in-github",
        "colab_type": "text"
      },
      "source": [
        "<a href=\"https://colab.research.google.com/github/AmitkSingh93/PW-DataAnalytics/blob/main/Data_Types_and_Structures.ipynb\" target=\"_parent\"><img src=\"https://colab.research.google.com/assets/colab-badge.svg\" alt=\"Open In Colab\"/></a>"
      ]
    },
    {
      "cell_type": "markdown",
      "source": [
        "# **DATATYPE STRUCTURE QUESTIONS**"
      ],
      "metadata": {
        "id": "8aG3SkUM6HFV"
      }
    },
    {
      "cell_type": "markdown",
      "source": [
        "1. What are data structures, and why are they important?\n",
        "- Explanation: Data structures are methods of organizing and storing data efficiently to perform operations like searching, sorting, and modifying data. They are important because they affect how easily data can be accessed, modified, and manipulated. Proper data structures enhance the performance of algorithms and optimize memory usage.\n",
        "\n",
        "\n",
        "---\n",
        "\n"
      ],
      "metadata": {
        "id": "LZovk9CxE1n8"
      }
    },
    {
      "cell_type": "markdown",
      "source": [
        "2. Explain the difference between mutable and immutable data types with examples.\n",
        "- Mutable: Data types that can be modified after their creation. Examples: Lists, Dictionaries, Sets."
      ],
      "metadata": {
        "id": "4qGf2xr6FXFx"
      }
    },
    {
      "cell_type": "code",
      "source": [
        "# Example\n",
        "my_list = [1, 2, 3]  # Mutable\n",
        "my_list[0] = 10  # List can be changed\n",
        "print(my_list)"
      ],
      "metadata": {
        "colab": {
          "base_uri": "https://localhost:8080/"
        },
        "id": "8SYB-AT8H46e",
        "outputId": "84393f3e-db3a-43d4-9180-c3bb2f22ee52"
      },
      "execution_count": 8,
      "outputs": [
        {
          "output_type": "stream",
          "name": "stdout",
          "text": [
            "[10, 2, 3]\n"
          ]
        }
      ]
    },
    {
      "cell_type": "markdown",
      "source": [
        "- Immutable: Data types that cannot be modified once they are created. Examples: Tuples, Strings, Integers.\n"
      ],
      "metadata": {
        "id": "S1EapnTZIuZg"
      }
    },
    {
      "cell_type": "code",
      "source": [
        "# Example\n",
        "my_tuple = (1, 2, 3)  # Immutable\n",
        "my_tuple[0] = 10  # Error: Cannot modify tuple\n",
        "print(my_tuple)"
      ],
      "metadata": {
        "colab": {
          "base_uri": "https://localhost:8080/",
          "height": 193
        },
        "id": "FbiEi0rEIzY_",
        "outputId": "92364172-1921-4f05-9d7b-2294ccf82935"
      },
      "execution_count": 17,
      "outputs": [
        {
          "output_type": "error",
          "ename": "TypeError",
          "evalue": "'tuple' object does not support item assignment",
          "traceback": [
            "\u001b[0;31m---------------------------------------------------------------------------\u001b[0m",
            "\u001b[0;31mTypeError\u001b[0m                                 Traceback (most recent call last)",
            "\u001b[0;32m<ipython-input-17-0f7b265bd560>\u001b[0m in \u001b[0;36m<cell line: 3>\u001b[0;34m()\u001b[0m\n\u001b[1;32m      1\u001b[0m \u001b[0;31m# Example\u001b[0m\u001b[0;34m\u001b[0m\u001b[0;34m\u001b[0m\u001b[0m\n\u001b[1;32m      2\u001b[0m \u001b[0mmy_tuple\u001b[0m \u001b[0;34m=\u001b[0m \u001b[0;34m(\u001b[0m\u001b[0;36m1\u001b[0m\u001b[0;34m,\u001b[0m \u001b[0;36m2\u001b[0m\u001b[0;34m,\u001b[0m \u001b[0;36m3\u001b[0m\u001b[0;34m)\u001b[0m  \u001b[0;31m# Immutable\u001b[0m\u001b[0;34m\u001b[0m\u001b[0;34m\u001b[0m\u001b[0m\n\u001b[0;32m----> 3\u001b[0;31m \u001b[0mmy_tuple\u001b[0m\u001b[0;34m[\u001b[0m\u001b[0;36m0\u001b[0m\u001b[0;34m]\u001b[0m \u001b[0;34m=\u001b[0m \u001b[0;36m10\u001b[0m  \u001b[0;31m# Error: Cannot modify tuple\u001b[0m\u001b[0;34m\u001b[0m\u001b[0;34m\u001b[0m\u001b[0m\n\u001b[0m\u001b[1;32m      4\u001b[0m \u001b[0mprint\u001b[0m\u001b[0;34m(\u001b[0m\u001b[0mmy_tuple\u001b[0m\u001b[0;34m)\u001b[0m\u001b[0;34m\u001b[0m\u001b[0;34m\u001b[0m\u001b[0m\n",
            "\u001b[0;31mTypeError\u001b[0m: 'tuple' object does not support item assignment"
          ]
        }
      ]
    },
    {
      "cell_type": "markdown",
      "source": [
        "\n",
        "\n",
        "---\n",
        "\n"
      ],
      "metadata": {
        "id": "iHw3os8aJEdU"
      }
    },
    {
      "cell_type": "markdown",
      "source": [
        "3. What are the main differences between lists and tuples in Python?\n",
        "- Lists:\n",
        "  - Mutable: Can be modified (add, remove, or change items).\n",
        "  - Syntax: [ ]\n",
        "\n",
        "- Tuples:\n",
        "  - Immutable: Cannot be modified once created.\n",
        "  - Syntax: ( )\n"
      ],
      "metadata": {
        "id": "2mH-mRn-JU2-"
      }
    },
    {
      "cell_type": "code",
      "source": [
        "# Example\n",
        "my_list = [1, 2, 3]  # Mutable\n",
        "my_tuple = (1, 2, 3)  # Immutable\n"
      ],
      "metadata": {
        "id": "2SR5WcNjKiIk"
      },
      "execution_count": 11,
      "outputs": []
    },
    {
      "cell_type": "markdown",
      "source": [
        "\n",
        "\n",
        "---\n",
        "\n"
      ],
      "metadata": {
        "id": "HkU_Pln9Ko88"
      }
    },
    {
      "cell_type": "markdown",
      "source": [
        "4. Describe how dictionaries store data.\n",
        "- Dictionaries store data in key-value pairs. Each key is unique, and it maps to a specific value. Python dictionaries are implemented using hash tables for fast lookups.\n"
      ],
      "metadata": {
        "id": "2fMnbJ4FLZef"
      }
    },
    {
      "cell_type": "code",
      "source": [
        "# Example\n",
        "my_dict = {\"name\": \"John\", \"age\": 30}\n"
      ],
      "metadata": {
        "id": "ot1A8VIfLiN7"
      },
      "execution_count": 12,
      "outputs": []
    },
    {
      "cell_type": "markdown",
      "source": [
        "\n",
        "\n",
        "---\n",
        "\n"
      ],
      "metadata": {
        "id": "5ckZtDjtLvOR"
      }
    },
    {
      "cell_type": "markdown",
      "source": [
        "5. Why might you use a set instead of a list in Python?\n",
        "- Sets are used when you need to store unique values and avoid duplicates. Unlike lists, sets do not maintain the order of elements but allow fast membership testing and eliminate duplicate entries.\n"
      ],
      "metadata": {
        "id": "fnqFfB2MLycY"
      }
    },
    {
      "cell_type": "code",
      "source": [
        "# Example\n",
        "my_set = {1, 2, 3}\n",
        "my_set.add(3)  # Duplicate 3 is not added\n"
      ],
      "metadata": {
        "id": "4VSzh_djL98T"
      },
      "execution_count": 13,
      "outputs": []
    },
    {
      "cell_type": "markdown",
      "source": [
        "\n",
        "\n",
        "---\n",
        "\n"
      ],
      "metadata": {
        "id": "9djpiVJMMBib"
      }
    },
    {
      "cell_type": "markdown",
      "source": [
        "6. What is a string in Python, and how is it different from a list?\n",
        "- A string is an immutable sequence of characters. It is different from a list because:\n",
        "  - Strings hold characters (a single data type), while lists can hold different types of data.\n",
        "  - Strings are immutable (cannot be changed after creation), whereas lists are mutable.\n"
      ],
      "metadata": {
        "id": "zGPr78K2MEQ4"
      }
    },
    {
      "cell_type": "code",
      "source": [
        "# Example\n",
        "my_string = \"hello\"\n",
        "my_list = [1, \"apple\", 3.14]  # List can hold different data types\n"
      ],
      "metadata": {
        "id": "eqAmPUhdMwmw"
      },
      "execution_count": 14,
      "outputs": []
    },
    {
      "cell_type": "markdown",
      "source": [
        "\n",
        "\n",
        "---\n",
        "\n"
      ],
      "metadata": {
        "id": "xRt2ghMCM48y"
      }
    },
    {
      "cell_type": "markdown",
      "source": [
        "7. How do tuples ensure data integrity in Python?\n",
        "- Tuples are immutable, which means that once created, their elements cannot be changed. This helps ensure data integrity by preventing accidental modifications, making tuples ideal for storing data that should remain constant throughout the program.\n"
      ],
      "metadata": {
        "id": "Z_JYuYTqM8XM"
      }
    },
    {
      "cell_type": "markdown",
      "source": [
        "\n",
        "\n",
        "---\n",
        "\n"
      ],
      "metadata": {
        "id": "r4DlKR4VNRDx"
      }
    },
    {
      "cell_type": "markdown",
      "source": [
        "8. What is a hash table, and how does it relate to dictionaries in Python?\n",
        "- A hash table is a data structure that maps keys to values using a hashing function. Python dictionaries are implemented as hash tables for fast data retrieval.\n",
        "\n"
      ],
      "metadata": {
        "id": "IWZ1g85bNTIC"
      }
    },
    {
      "cell_type": "markdown",
      "source": [
        "\n",
        "\n",
        "---\n",
        "\n"
      ],
      "metadata": {
        "id": "sR0XXCyuNZ3x"
      }
    },
    {
      "cell_type": "markdown",
      "source": [
        "9. Can lists contain different data types in Python?\n",
        "- Yes, lists can store elements of mixed data types, such as [1, \"hello\", 3.5].\n",
        "\n"
      ],
      "metadata": {
        "id": "E-Gcp59zNa8T"
      }
    },
    {
      "cell_type": "markdown",
      "source": [
        "\n",
        "\n",
        "---\n",
        "\n"
      ],
      "metadata": {
        "id": "rn446_5Pz2Yn"
      }
    },
    {
      "cell_type": "markdown",
      "source": [
        "10. Explain why strings are immutable in Python.\n",
        "- Strings are immutable to enhance performance, reduce memory usage (since multiple references can point to the same object), and ensure thread safety.\n",
        "\n"
      ],
      "metadata": {
        "id": "wus_qKlDxs4Z"
      }
    },
    {
      "cell_type": "markdown",
      "source": [
        "11. What advantages do dictionaries offer over lists for certain tasks?\n",
        "- Dictionaries provide faster data retrieval via keys and allow easy representation of relationships through key-value pairs.\n",
        "\n"
      ],
      "metadata": {
        "id": "lVfqVjDux63B"
      }
    },
    {
      "cell_type": "markdown",
      "source": [
        "\n",
        "\n",
        "---\n",
        "\n"
      ],
      "metadata": {
        "id": "X48rZ1oWz4ch"
      }
    },
    {
      "cell_type": "markdown",
      "source": [
        "12. How do sets handle duplicate values in Python?\n",
        "- Sets automatically discard duplicate values, ensuring all elements are unique.\n",
        "\n"
      ],
      "metadata": {
        "id": "WY5kP02QyXvH"
      }
    },
    {
      "cell_type": "markdown",
      "source": [
        "\n",
        "\n",
        "---\n",
        "\n"
      ],
      "metadata": {
        "id": "UCvQWRT1z5_x"
      }
    },
    {
      "cell_type": "markdown",
      "source": [
        "13. Describe a scenario where using a tuple would be preferable over a list.\n",
        "- Tuples are preferable when you need to ensure that the data remains constant and cannot be modified. For example, storing fixed coordinates of a geographical point or constants that should not change\n"
      ],
      "metadata": {
        "id": "vltk_yDyylya"
      }
    },
    {
      "cell_type": "markdown",
      "source": [
        "\n",
        "\n",
        "---\n",
        "\n"
      ],
      "metadata": {
        "id": "3hFem464z7yl"
      }
    },
    {
      "cell_type": "markdown",
      "source": [
        "14. How does the “in” keyword work differently for lists and dictionaries?\n",
        "- Explanation:\n",
        "  - Lists: The in keyword checks if a value exists in the list.\n",
        "  - Dictionaries: The in keyword checks if a key exists in the dictionary."
      ],
      "metadata": {
        "id": "Syi9YqY1zYQf"
      }
    },
    {
      "cell_type": "code",
      "source": [
        "my_list = [1, 2, 3]\n",
        "2 in my_list\n",
        "\n",
        "my_dict = {\"name\": \"John\", \"age\": 30}\n",
        "\"name\" in my_dict\n"
      ],
      "metadata": {
        "colab": {
          "base_uri": "https://localhost:8080/"
        },
        "id": "kBAMC_d_0YrK",
        "outputId": "d6d31014-2960-4d86-e559-6e6c50831b2b"
      },
      "execution_count": 15,
      "outputs": [
        {
          "output_type": "execute_result",
          "data": {
            "text/plain": [
              "True"
            ]
          },
          "metadata": {},
          "execution_count": 15
        }
      ]
    },
    {
      "cell_type": "markdown",
      "source": [
        "\n",
        "\n",
        "---\n",
        "\n"
      ],
      "metadata": {
        "id": "d2mMrVnN0eKO"
      }
    },
    {
      "cell_type": "markdown",
      "source": [
        "15. Can you modify the elements of a tuple? Explain why or why not.\n",
        "- No, we cannot modify the elements of a tuple because tuples are immutable. Once a tuple is created, it cannot be changed, which ensures data integrity."
      ],
      "metadata": {
        "id": "m88mjLrd0fkY"
      }
    },
    {
      "cell_type": "markdown",
      "source": [
        "16. What is a nested dictionary, and give an example of its use case.\n",
        "- A nested dictionary is a dictionary where the value is another dictionary. This is useful for representing hierarchical data."
      ],
      "metadata": {
        "id": "okkk8uOX0-3o"
      }
    },
    {
      "cell_type": "code",
      "source": [
        "# Example\n",
        "person = {\n",
        "    \"name\": \"John\",\n",
        "    \"address\": {\n",
        "        \"city\": \"New York\",\n",
        "        \"zipcode\": \"10001\"\n",
        "    }\n",
        "}\n"
      ],
      "metadata": {
        "id": "7Isuu5NU1ZLp"
      },
      "execution_count": 16,
      "outputs": []
    },
    {
      "cell_type": "markdown",
      "source": [
        "17. Describe the time complexity of accessing elements in a dictionary.\n",
        "- Accessing elements in a dictionary by key has an average time complexity of O(1), meaning it is constant time for retrieving values associated with keys."
      ],
      "metadata": {
        "id": "2rSWiN_H1kaq"
      }
    },
    {
      "cell_type": "markdown",
      "source": [
        "\n",
        "\n",
        "---\n",
        "\n"
      ],
      "metadata": {
        "id": "c8wyooBU2vM8"
      }
    },
    {
      "cell_type": "markdown",
      "source": [
        "18. In what situations are lists preferred over dictionaries?\n",
        "- Explanation: Lists are preferred when:\n",
        "  - The order of elements matters.\n",
        "  - You need to iterate over items in a sequence.\n",
        "  - You don't need key-based lookups.\n",
        "  - You want to allow duplicates."
      ],
      "metadata": {
        "id": "-WFZORmf2Wul"
      }
    },
    {
      "cell_type": "markdown",
      "source": [
        "\n",
        "\n",
        "---\n",
        "\n"
      ],
      "metadata": {
        "id": "OZWr2PBr2xKL"
      }
    },
    {
      "cell_type": "markdown",
      "source": [
        "19. Why are dictionaries considered unordered, and how does that affect data retrieval?\n",
        "- Explanation: Dictionaries are considered unordered because the keys in a dictionary do not maintain any specific order. However, this does not affect data retrieval since dictionaries allow fast access to values using keys, regardless of their order.\n"
      ],
      "metadata": {
        "id": "Vz2JNfXh2t18"
      }
    },
    {
      "cell_type": "markdown",
      "source": [
        "\n",
        "\n",
        "---\n",
        "\n"
      ],
      "metadata": {
        "id": "OHsrNYOO2_hp"
      }
    },
    {
      "cell_type": "markdown",
      "source": [
        "20. Explain the difference between a list and a dictionary in terms of data retrieval.\n",
        "- Explanation:\n",
        "  - List: Data is retrieved by index. You access elements based on their position in the list.\n",
        "  - Dictionary: Data is retrieved by key. You access values directly using unique keys."
      ],
      "metadata": {
        "id": "r0uhmMiX3A-X"
      }
    },
    {
      "cell_type": "markdown",
      "source": [
        "\n",
        "\n",
        "---\n",
        "\n"
      ],
      "metadata": {
        "id": "0XeDj9ME3Bvd"
      }
    },
    {
      "cell_type": "markdown",
      "source": [
        "# **PRACTICAL QUESTIONS**"
      ],
      "metadata": {
        "id": "5Y42TwfK6b2_"
      }
    },
    {
      "cell_type": "markdown",
      "source": [
        "1. Write a code to create a string with your name and print it.\n"
      ],
      "metadata": {
        "id": "YUB-tBgZ6k75"
      }
    },
    {
      "cell_type": "code",
      "source": [
        "name = \"Amit Kumar\"\n",
        "print(name)\n"
      ],
      "metadata": {
        "colab": {
          "base_uri": "https://localhost:8080/"
        },
        "id": "naIGRRiJ6_-5",
        "outputId": "b4a27f27-bd56-4ee9-ca95-0a974a29eafc"
      },
      "execution_count": 18,
      "outputs": [
        {
          "output_type": "stream",
          "name": "stdout",
          "text": [
            "Amit Kumar\n"
          ]
        }
      ]
    },
    {
      "cell_type": "markdown",
      "source": [
        "2. Write a code to find the length of the string \"Hello World\".\n"
      ],
      "metadata": {
        "id": "nbF2AE-C7GJg"
      }
    },
    {
      "cell_type": "code",
      "source": [
        "string = \"Hello World\"\n",
        "print(len(string))\n"
      ],
      "metadata": {
        "id": "HEbOplWz8m6K"
      },
      "execution_count": null,
      "outputs": []
    },
    {
      "cell_type": "markdown",
      "source": [
        "3. Write a code to slice the first 3 characters from the string \"Python Programming\".\n"
      ],
      "metadata": {
        "id": "vp9wl9d18rab"
      }
    },
    {
      "cell_type": "code",
      "source": [
        "text = \"Python Programming\"\n",
        "print(text[:3])\n"
      ],
      "metadata": {
        "id": "rZDVRVy381nK"
      },
      "execution_count": null,
      "outputs": []
    },
    {
      "cell_type": "markdown",
      "source": [
        "4. Write a code to convert the string \"hello\" to uppercase.\n"
      ],
      "metadata": {
        "id": "Cchzpese85Ks"
      }
    },
    {
      "cell_type": "code",
      "source": [
        "text = \"hello\"\n",
        "print(text.upper())\n"
      ],
      "metadata": {
        "id": "GGSNbbXJ8-Qi"
      },
      "execution_count": null,
      "outputs": []
    },
    {
      "cell_type": "markdown",
      "source": [
        "5. Write a code to replace the word \"apple\" with \"orange\" in the string \"I like apple\".\n"
      ],
      "metadata": {
        "id": "i3urU-d-9Cvs"
      }
    },
    {
      "cell_type": "code",
      "source": [
        "text = \"I like apple\"\n",
        "print(text.replace(\"apple\", \"orange\"))\n"
      ],
      "metadata": {
        "id": "atm6ntLN9G__"
      },
      "execution_count": null,
      "outputs": []
    },
    {
      "cell_type": "markdown",
      "source": [
        "6. Write a code to create a list with numbers 1 to 5 and print it.\n"
      ],
      "metadata": {
        "id": "hiRew-Ij9LO5"
      }
    },
    {
      "cell_type": "code",
      "source": [
        "numbers = [1, 2, 3, 4, 5]\n",
        "print(numbers)\n"
      ],
      "metadata": {
        "id": "2fHCkDMz9UO0"
      },
      "execution_count": null,
      "outputs": []
    },
    {
      "cell_type": "markdown",
      "source": [
        "7. Write a code to append the number 10 to the list [1, 2, 3, 4].\n"
      ],
      "metadata": {
        "id": "Qp1KUzyt9ZJc"
      }
    },
    {
      "cell_type": "code",
      "source": [
        "numbers = [1, 2, 3, 4]\n",
        "numbers.append(10)\n",
        "print(numbers)\n"
      ],
      "metadata": {
        "id": "qgsLADbM9hQi"
      },
      "execution_count": null,
      "outputs": []
    },
    {
      "cell_type": "markdown",
      "source": [
        "8. Write a code to remove the number 3 from the list [1, 2, 3, 4, 5].\n"
      ],
      "metadata": {
        "id": "31VDMx4K9qU6"
      }
    },
    {
      "cell_type": "code",
      "source": [
        "numbers = [1, 2, 3, 4, 5]\n",
        "numbers.remove(3)\n",
        "print(numbers)\n"
      ],
      "metadata": {
        "id": "NVGZ9WD79w0l"
      },
      "execution_count": null,
      "outputs": []
    },
    {
      "cell_type": "markdown",
      "source": [
        "9. Write a code to access the second element in the list ['a', 'b', 'c', 'd'].\n"
      ],
      "metadata": {
        "id": "HqIdbIhR90a-"
      }
    },
    {
      "cell_type": "code",
      "source": [
        "letters = ['a', 'b', 'c', 'd']\n",
        "print(letters[1])\n"
      ],
      "metadata": {
        "id": "UGd-gdcX9-fX"
      },
      "execution_count": null,
      "outputs": []
    },
    {
      "cell_type": "markdown",
      "source": [
        "10. Write a code to reverse the list [10, 20, 30, 40, 50].\n",
        "\n"
      ],
      "metadata": {
        "id": "d8QyyPX8-CaD"
      }
    },
    {
      "cell_type": "code",
      "source": [
        "numbers = [10, 20, 30, 40, 50]\n",
        "numbers.reverse()\n",
        "print(numbers)\n"
      ],
      "metadata": {
        "id": "DQEoY-q6-dNx"
      },
      "execution_count": null,
      "outputs": []
    },
    {
      "cell_type": "markdown",
      "source": [
        "11. Write a code to create a tuple with the elements 10, 20, 30 and print it.\n"
      ],
      "metadata": {
        "id": "Tny3FhUh-mIw"
      }
    },
    {
      "cell_type": "code",
      "source": [
        "my_tuple = (10, 20, 30)\n",
        "print(my_tuple)\n"
      ],
      "metadata": {
        "id": "MT7bB8ti-raq"
      },
      "execution_count": null,
      "outputs": []
    },
    {
      "cell_type": "markdown",
      "source": [
        "12. Write a code to access the first element of the tuple ('apple', 'banana', 'cherry').\n"
      ],
      "metadata": {
        "id": "6AEqyf-P-wgM"
      }
    },
    {
      "cell_type": "code",
      "source": [
        "fruits = ('apple', 'banana', 'cherry')\n",
        "print(fruits[0])\n"
      ],
      "metadata": {
        "id": "th2sbJDk-3C8"
      },
      "execution_count": null,
      "outputs": []
    },
    {
      "cell_type": "markdown",
      "source": [
        "13. Write a code to count how many times the number 2 appears in the tuple (1, 2, 3, 2, 4, 2).\n"
      ],
      "metadata": {
        "id": "AIdcBrJD-7I7"
      }
    },
    {
      "cell_type": "code",
      "source": [
        "numbers = (1, 2, 3, 2, 4, 2)\n",
        "print(numbers.count(2))\n"
      ],
      "metadata": {
        "id": "J0XIdDad_CJA"
      },
      "execution_count": null,
      "outputs": []
    },
    {
      "cell_type": "markdown",
      "source": [
        "14. animals = ('dog', 'cat', 'rabbit')\n",
        "print(animals.index(\"cat\"))\n"
      ],
      "metadata": {
        "id": "kR47HxMN_HXW"
      }
    },
    {
      "cell_type": "code",
      "source": [
        "animals = ('dog', 'cat', 'rabbit')\n",
        "print(animals.index(\"cat\"))\n"
      ],
      "metadata": {
        "id": "uLaKKqOk_NeZ"
      },
      "execution_count": null,
      "outputs": []
    },
    {
      "cell_type": "markdown",
      "source": [
        "15. Write a code to check if the element \"banana\" is in the tuple ('apple', 'orange', 'banana').\n"
      ],
      "metadata": {
        "id": "eYU6xouB_Qmb"
      }
    },
    {
      "cell_type": "code",
      "source": [
        "fruits = ('apple', 'orange', 'banana')\n",
        "print(\"banana\" in fruits)\n"
      ],
      "metadata": {
        "id": "VyoGkbhb_W1n"
      },
      "execution_count": null,
      "outputs": []
    },
    {
      "cell_type": "markdown",
      "source": [
        "16. Write a code to create a set with the elements 1, 2, 3, 4, 5 and print it.\n"
      ],
      "metadata": {
        "id": "KmNjTX27_a-a"
      }
    },
    {
      "cell_type": "code",
      "source": [
        "my_set = {1, 2, 3, 4, 5}\n",
        "print(my_set)\n"
      ],
      "metadata": {
        "id": "P124cyCb_hgt"
      },
      "execution_count": null,
      "outputs": []
    },
    {
      "cell_type": "markdown",
      "source": [
        "17. Write a code to add the element 6 to the set {1, 2, 3, 4}.\n",
        "\n",
        "\n",
        "\n",
        "\n",
        "\n"
      ],
      "metadata": {
        "id": "Olt1WpKs_lKy"
      }
    },
    {
      "cell_type": "code",
      "source": [
        "my_set = {1, 2, 3, 4}\n",
        "my_set.add(6)\n",
        "print(my_set)\n"
      ],
      "metadata": {
        "id": "EmJ8GuWW_qki"
      },
      "execution_count": null,
      "outputs": []
    }
  ]
}