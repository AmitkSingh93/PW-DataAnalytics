{
  "nbformat": 4,
  "nbformat_minor": 0,
  "metadata": {
    "colab": {
      "provenance": [],
      "authorship_tag": "ABX9TyPj0iJ56JfiQCKf17WrQ3bT",
      "include_colab_link": true
    },
    "kernelspec": {
      "name": "python3",
      "display_name": "Python 3"
    },
    "language_info": {
      "name": "python"
    }
  },
  "cells": [
    {
      "cell_type": "markdown",
      "metadata": {
        "id": "view-in-github",
        "colab_type": "text"
      },
      "source": [
        "<a href=\"https://colab.research.google.com/github/AmitkSingh93/PW-DataAnalytics/blob/main/Functions.ipynb\" target=\"_parent\"><img src=\"https://colab.research.google.com/assets/colab-badge.svg\" alt=\"Open In Colab\"/></a>"
      ]
    },
    {
      "cell_type": "markdown",
      "source": [
        "# Theory Questions"
      ],
      "metadata": {
        "id": "HLniznOP4r6u"
      }
    },
    {
      "cell_type": "markdown",
      "source": [
        "1. What is the difference between a function and a method in Python?\n",
        "\n",
        "- Function: A block of code that performs a specific task and is defined using the def keyword. Functions can be called independently.\n",
        "- Method: A function that is associated with an object and is called on that object. Methods are defined inside a class."
      ],
      "metadata": {
        "id": "9U17R5cF420S"
      }
    },
    {
      "cell_type": "code",
      "source": [
        "# Example:-\n",
        "\n",
        "# Function\n",
        "def greet(name):\n",
        "    return f\"Hello, {name}!\"\n",
        "\n",
        "print(greet(\"Amit\"))\n",
        "\n",
        "# Method\n",
        "class Greeter:\n",
        "    def greet(self, name):\n",
        "        return f\"Hello, {name}!\"\n",
        "\n",
        "greeter = Greeter()\n",
        "print(greeter.greet(\"Amit\"))\n"
      ],
      "metadata": {
        "colab": {
          "base_uri": "https://localhost:8080/"
        },
        "id": "mgrfCReze5lR",
        "outputId": "30fc8dc8-ae2d-41ab-84de-5242dd9937ce"
      },
      "execution_count": 4,
      "outputs": [
        {
          "output_type": "stream",
          "name": "stdout",
          "text": [
            "Hello, Amit!\n",
            "Hello, Amit!\n"
          ]
        }
      ]
    },
    {
      "cell_type": "markdown",
      "source": [
        "\n",
        "\n",
        "---\n",
        "\n"
      ],
      "metadata": {
        "id": "SuKXnRPZfF_N"
      }
    },
    {
      "cell_type": "markdown",
      "source": [
        "2. Explain the concept of function arguments and parameters in Python.\n",
        "\n",
        "- Parameters: Variables listed in a function's definition.\n",
        "- Arguments: The actual values passed to the function when calling it."
      ],
      "metadata": {
        "id": "PbT1MFZnfKp7"
      }
    },
    {
      "cell_type": "code",
      "source": [
        "# Example:-\n",
        "\n",
        "def add(a, b):  # 'a' and 'b' are parameters\n",
        "    return a + b\n",
        "\n",
        "result = add(5, 3)  # 5 and 3 are arguments\n",
        "print(result)\n"
      ],
      "metadata": {
        "colab": {
          "base_uri": "https://localhost:8080/"
        },
        "id": "0OL0gffMfhs_",
        "outputId": "4b060f2a-9868-4dfc-fb54-63d193d969c7"
      },
      "execution_count": 5,
      "outputs": [
        {
          "output_type": "stream",
          "name": "stdout",
          "text": [
            "8\n"
          ]
        }
      ]
    },
    {
      "cell_type": "markdown",
      "source": [
        "\n",
        "\n",
        "---\n",
        "\n"
      ],
      "metadata": {
        "id": "fY2EMelgf5n6"
      }
    },
    {
      "cell_type": "markdown",
      "source": [
        "3. What are the different ways to define and call a function in Python?\n",
        "\n",
        "- Define using def or a lambda function.\n",
        "- Call by providing arguments (positional, keyword, default, or variable-length)."
      ],
      "metadata": {
        "id": "ciB4Pbhof7Zm"
      }
    },
    {
      "cell_type": "code",
      "source": [
        "# Example:-\n",
        "\n",
        "# Using def\n",
        "def multiply(a, b=2):  # Default parameter\n",
        "    return a * b\n",
        "\n",
        "print(multiply(4))  # Positional\n",
        "print(multiply(4, b=3))  # Keyword\n",
        "\n",
        "# Using lambda\n",
        "square = lambda x: x**2\n",
        "print(square(5))\n"
      ],
      "metadata": {
        "colab": {
          "base_uri": "https://localhost:8080/"
        },
        "id": "SN5RSs2VgTMF",
        "outputId": "c097368a-2068-4174-b0cf-6aba38f0c249"
      },
      "execution_count": 6,
      "outputs": [
        {
          "output_type": "stream",
          "name": "stdout",
          "text": [
            "8\n",
            "12\n",
            "25\n"
          ]
        }
      ]
    },
    {
      "cell_type": "markdown",
      "source": [
        "\n",
        "\n",
        "---\n",
        "\n"
      ],
      "metadata": {
        "id": "IK6QtvP4gj_o"
      }
    },
    {
      "cell_type": "markdown",
      "source": [
        "4. What is the purpose of the return statement in a Python function?\n",
        "\n",
        "The return statement is used to send a value back to the caller of the function."
      ],
      "metadata": {
        "id": "kDZ_O232glfb"
      }
    },
    {
      "cell_type": "code",
      "source": [
        "# Example:-\n",
        "\n",
        "def square(num):\n",
        "    return num * num\n",
        "\n",
        "result = square(6)\n",
        "print(result)  # Output: 36\n"
      ],
      "metadata": {
        "colab": {
          "base_uri": "https://localhost:8080/"
        },
        "id": "cQnbuI9OgwvW",
        "outputId": "f803294a-e7bf-4268-922d-53994725b9e2"
      },
      "execution_count": 7,
      "outputs": [
        {
          "output_type": "stream",
          "name": "stdout",
          "text": [
            "36\n"
          ]
        }
      ]
    },
    {
      "cell_type": "markdown",
      "source": [
        "\n",
        "\n",
        "---\n",
        "\n"
      ],
      "metadata": {
        "id": "mV8GZB3gg4DF"
      }
    },
    {
      "cell_type": "markdown",
      "source": [
        "5. What are iterators in Python and how do they differ from iterables?\n",
        "\n",
        "- Iterable: An object that can return an iterator using iter().\n",
        "- Iterator: An object with a __next__() method to get the next value."
      ],
      "metadata": {
        "id": "s5UwDJgug576"
      }
    },
    {
      "cell_type": "code",
      "source": [
        "# Example:-\n",
        "\n",
        "# Iterable\n",
        "nums = [1, 2, 3]\n",
        "iterator = iter(nums)\n",
        "\n",
        "# Iterator\n",
        "print(next(iterator))  # Output: 1\n",
        "print(next(iterator))  # Output: 2\n"
      ],
      "metadata": {
        "colab": {
          "base_uri": "https://localhost:8080/"
        },
        "id": "c2l5dff_hfL2",
        "outputId": "5d142480-503a-4803-90b6-75f760ee6252"
      },
      "execution_count": 8,
      "outputs": [
        {
          "output_type": "stream",
          "name": "stdout",
          "text": [
            "1\n",
            "2\n"
          ]
        }
      ]
    },
    {
      "cell_type": "markdown",
      "source": [
        "\n",
        "\n",
        "---\n",
        "\n"
      ],
      "metadata": {
        "id": "WcaNgCkchoKv"
      }
    },
    {
      "cell_type": "markdown",
      "source": [
        "6. Explain the concept of generators in Python and how they are defined.\n",
        "\n",
        "Generators are functions that produce a sequence of values lazily using yield instead of return."
      ],
      "metadata": {
        "id": "uN9dbEHVhpkr"
      }
    },
    {
      "cell_type": "code",
      "source": [
        "# Example:-\n",
        "\n",
        "def generate_numbers():\n",
        "    for i in range(3):\n",
        "        yield i\n",
        "\n",
        "gen = generate_numbers()\n",
        "print(next(gen))  # Output: 0\n",
        "print(next(gen))  # Output: 1\n"
      ],
      "metadata": {
        "colab": {
          "base_uri": "https://localhost:8080/"
        },
        "id": "AC_zPpGZilbq",
        "outputId": "542b5db1-16aa-414f-9f74-b64e998a4d89"
      },
      "execution_count": 9,
      "outputs": [
        {
          "output_type": "stream",
          "name": "stdout",
          "text": [
            "0\n",
            "1\n"
          ]
        }
      ]
    },
    {
      "cell_type": "markdown",
      "source": [
        "\n",
        "\n",
        "---\n",
        "\n"
      ],
      "metadata": {
        "id": "ZZcI2bYZisF3"
      }
    },
    {
      "cell_type": "markdown",
      "source": [
        "7. What are the advantages of using generators over regular functions?\n",
        "\n",
        "- Memory-efficient: Values are generated lazily.\n",
        "- Easier syntax: Useful for large datasets."
      ],
      "metadata": {
        "id": "nIzfua5citor"
      }
    },
    {
      "cell_type": "code",
      "source": [
        "# Example:-\n",
        "\n",
        "# Generator for infinite numbers\n",
        "def infinite_numbers():\n",
        "    n = 0\n",
        "    while True:\n",
        "        yield n\n",
        "        n += 1\n",
        "\n",
        "gen = infinite_numbers()\n",
        "print(next(gen))  # Output: 0\n",
        "print(next(gen))  # Output: 1\n"
      ],
      "metadata": {
        "colab": {
          "base_uri": "https://localhost:8080/"
        },
        "id": "RwDB8b6IjAki",
        "outputId": "ce786fbb-b139-4409-fedd-f03f448a85fc"
      },
      "execution_count": 10,
      "outputs": [
        {
          "output_type": "stream",
          "name": "stdout",
          "text": [
            "0\n",
            "1\n"
          ]
        }
      ]
    },
    {
      "cell_type": "markdown",
      "source": [
        "\n",
        "\n",
        "---\n",
        "\n"
      ],
      "metadata": {
        "id": "4Grbcy7ujQ2t"
      }
    },
    {
      "cell_type": "markdown",
      "source": [
        "8. What is a lambda function in Python and when is it typically used?\n",
        "\n",
        "A lambda function is an anonymous function defined using the lambda keyword. It's used for short, throwaway functions."
      ],
      "metadata": {
        "id": "hGt3UbWkjSVT"
      }
    },
    {
      "cell_type": "code",
      "source": [
        "# Example:-\n",
        "\n",
        "double = lambda x: x * 2\n",
        "print(double(4))  # Output: 8\n"
      ],
      "metadata": {
        "colab": {
          "base_uri": "https://localhost:8080/"
        },
        "id": "UsLEHW4Ejpmi",
        "outputId": "33cd341c-152f-4fa5-8b97-138678de6a31"
      },
      "execution_count": 11,
      "outputs": [
        {
          "output_type": "stream",
          "name": "stdout",
          "text": [
            "8\n"
          ]
        }
      ]
    },
    {
      "cell_type": "markdown",
      "source": [
        "\n",
        "\n",
        "---\n",
        "\n"
      ],
      "metadata": {
        "id": "hOSjVDz9jw7F"
      }
    },
    {
      "cell_type": "markdown",
      "source": [
        "9. Explain the purpose and usage of the map() function in Python.\n",
        "\n",
        "Purpose: Applies a function to each item in an iterable."
      ],
      "metadata": {
        "id": "ue4e0m88j1xi"
      }
    },
    {
      "cell_type": "code",
      "source": [
        "# USAGE:-\n",
        "\n",
        "nums = [1, 2, 3]\n",
        "squared = map(lambda x: x**2, nums)\n",
        "print(list(squared))  # Output: [1, 4, 9]\n"
      ],
      "metadata": {
        "colab": {
          "base_uri": "https://localhost:8080/"
        },
        "id": "LIcRX8-8kTBr",
        "outputId": "d7a85d52-0af6-4efb-e1fd-2d1760043c6b"
      },
      "execution_count": 12,
      "outputs": [
        {
          "output_type": "stream",
          "name": "stdout",
          "text": [
            "[1, 4, 9]\n"
          ]
        }
      ]
    },
    {
      "cell_type": "markdown",
      "source": [
        "\n",
        "\n",
        "---\n",
        "\n"
      ],
      "metadata": {
        "id": "qJ7U_yOukZtw"
      }
    },
    {
      "cell_type": "markdown",
      "source": [
        "10. What is the difference between map(), reduce(), and filter() functions in Python?\n",
        "\n",
        "map(): Transforms each element.\n",
        "filter(): Filters elements based on a condition.\n",
        "reduce(): Reduces elements to a single value."
      ],
      "metadata": {
        "id": "X3mlpdnDkasA"
      }
    },
    {
      "cell_type": "code",
      "source": [
        "# Example:-\n",
        "\n",
        "from functools import reduce\n",
        "\n",
        "nums = [1, 2, 3, 4]\n",
        "\n",
        "# map()\n",
        "squared = map(lambda x: x**2, nums)\n",
        "print(list(squared))  # Output: [1, 4, 9, 16]\n",
        "\n",
        "# filter()\n",
        "evens = filter(lambda x: x % 2 == 0, nums)\n",
        "print(list(evens))  # Output: [2, 4]\n",
        "\n",
        "# reduce()\n",
        "product = reduce(lambda x, y: x * y, nums)\n",
        "print(product)  # Output: 24\n"
      ],
      "metadata": {
        "colab": {
          "base_uri": "https://localhost:8080/"
        },
        "id": "Kq0zHk0Fkp6s",
        "outputId": "0fd9bc75-c2e9-48fd-fdb5-a28ec4832faf"
      },
      "execution_count": 13,
      "outputs": [
        {
          "output_type": "stream",
          "name": "stdout",
          "text": [
            "[1, 4, 9, 16]\n",
            "[2, 4]\n",
            "24\n"
          ]
        }
      ]
    },
    {
      "cell_type": "markdown",
      "source": [
        "\n",
        "\n",
        "---\n",
        "\n"
      ],
      "metadata": {
        "id": "F_A5FnGEk4Eq"
      }
    },
    {
      "cell_type": "markdown",
      "source": [
        "11. Using pen & paper, write the internal mechanism for sum operation using reduce() on the list [47, 11, 42, 13].\n",
        "\n",
        "- To perform the sum operation using reduce() with a lambda function, you can break down the process step by step. Here's the internal mechanism for summing the list [47, 11, 42, 13] using reduce():\n",
        "\n",
        "![reduce_sum_handwritten_note.png](data:image/png;base64,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)\n"
      ],
      "metadata": {
        "id": "HCCDa2LBk5QG"
      }
    },
    {
      "cell_type": "code",
      "source": [
        "# Python Code Example:-\n",
        "\n",
        "from functools import reduce\n",
        "\n",
        "numbers = [47, 11, 42, 13]\n",
        "result = reduce(lambda x, y: x + y, numbers)\n",
        "print(result)  # Output: 113\n"
      ],
      "metadata": {
        "colab": {
          "base_uri": "https://localhost:8080/"
        },
        "id": "wRw5ksWCu3ku",
        "outputId": "82f3a59a-8dfa-488f-cd0f-a6779bb3bb2c"
      },
      "execution_count": 14,
      "outputs": [
        {
          "output_type": "stream",
          "name": "stdout",
          "text": [
            "113\n"
          ]
        }
      ]
    },
    {
      "cell_type": "markdown",
      "source": [
        "\n",
        "\n",
        "---\n",
        "\n"
      ],
      "metadata": {
        "id": "Zu04j7F0lHXm"
      }
    },
    {
      "cell_type": "markdown",
      "source": [
        "# Practical Questions"
      ],
      "metadata": {
        "id": "Hyok1u-PvGfr"
      }
    },
    {
      "cell_type": "markdown",
      "source": [
        "1. Write a Python function that takes a list of numbers as input and returns the sum of all even numbers in the list."
      ],
      "metadata": {
        "id": "70zMLO0mwwKs"
      }
    },
    {
      "cell_type": "code",
      "source": [
        "def sum_even_numbers(numbers):\n",
        "    return sum(num for num in numbers if num % 2 == 0)\n",
        "\n",
        "# Example\n",
        "print(sum_even_numbers([1, 2, 3, 4, 5, 6]))  # Output: 12\n"
      ],
      "metadata": {
        "colab": {
          "base_uri": "https://localhost:8080/"
        },
        "id": "6vfavGnBw75U",
        "outputId": "a9027b67-1ee0-481d-c804-2ac0a4ebc8d3"
      },
      "execution_count": 15,
      "outputs": [
        {
          "output_type": "stream",
          "name": "stdout",
          "text": [
            "12\n"
          ]
        }
      ]
    },
    {
      "cell_type": "markdown",
      "source": [
        "\n",
        "\n",
        "---\n",
        "\n"
      ],
      "metadata": {
        "id": "U7ruyebDw_m3"
      }
    },
    {
      "cell_type": "markdown",
      "source": [
        "2. Create a Python function that accepts a string and returns the reverse of that string."
      ],
      "metadata": {
        "id": "DPaAaGAgxA-X"
      }
    },
    {
      "cell_type": "code",
      "source": [
        "def reverse_string(s):\n",
        "    return s[::-1]\n",
        "\n",
        "# Example\n",
        "print(reverse_string(\"PW-Skills\"))  # Output: \"PW-Skills\"\n"
      ],
      "metadata": {
        "colab": {
          "base_uri": "https://localhost:8080/"
        },
        "id": "zLwMzNzgxEmA",
        "outputId": "ead0fb97-e6e7-4729-b46a-69c0af1cbf0d"
      },
      "execution_count": 26,
      "outputs": [
        {
          "output_type": "stream",
          "name": "stdout",
          "text": [
            "sllikS-WP\n"
          ]
        }
      ]
    },
    {
      "cell_type": "markdown",
      "source": [
        "\n",
        "\n",
        "---\n",
        "\n"
      ],
      "metadata": {
        "id": "fWoEPTyYxI-I"
      }
    },
    {
      "cell_type": "markdown",
      "source": [
        "3. Implement a Python function that takes a list of integers and returns a new list containing the squares of each number.\n"
      ],
      "metadata": {
        "id": "yJ03Tat-xOAz"
      }
    },
    {
      "cell_type": "code",
      "source": [
        "def square_numbers(numbers):\n",
        "    return [num**2 for num in numbers]\n",
        "\n",
        "# Example\n",
        "print(square_numbers([1, 2, 3, 4]))  # Output: [1, 4, 9, 16]\n"
      ],
      "metadata": {
        "colab": {
          "base_uri": "https://localhost:8080/"
        },
        "id": "-Y6uRKmQxcKE",
        "outputId": "04080b7e-546a-43a9-f7cc-94d85addfa83"
      },
      "execution_count": 17,
      "outputs": [
        {
          "output_type": "stream",
          "name": "stdout",
          "text": [
            "[1, 4, 9, 16]\n"
          ]
        }
      ]
    },
    {
      "cell_type": "markdown",
      "source": [
        "\n",
        "\n",
        "---\n",
        "\n"
      ],
      "metadata": {
        "id": "TxoYF5KXxf43"
      }
    },
    {
      "cell_type": "markdown",
      "source": [
        "4. Write a Python function that checks if a given number is prime or not from 1 to 200."
      ],
      "metadata": {
        "id": "TRSJdsECxg4i"
      }
    },
    {
      "cell_type": "code",
      "source": [
        "def is_prime(num):\n",
        "    if num < 2:\n",
        "        return False\n",
        "    for i in range(2, int(num**0.5) + 1):\n",
        "        if num % i == 0:\n",
        "            return False\n",
        "    return True\n",
        "\n",
        "# Example\n",
        "print([num for num in range(1, 201) if is_prime(num)])  # Prime numbers from 1 to 200\n"
      ],
      "metadata": {
        "colab": {
          "base_uri": "https://localhost:8080/"
        },
        "id": "vGB-PZEKxkG9",
        "outputId": "5f175c65-3473-4292-9638-3902fd0af899"
      },
      "execution_count": 18,
      "outputs": [
        {
          "output_type": "stream",
          "name": "stdout",
          "text": [
            "[2, 3, 5, 7, 11, 13, 17, 19, 23, 29, 31, 37, 41, 43, 47, 53, 59, 61, 67, 71, 73, 79, 83, 89, 97, 101, 103, 107, 109, 113, 127, 131, 137, 139, 149, 151, 157, 163, 167, 173, 179, 181, 191, 193, 197, 199]\n"
          ]
        }
      ]
    },
    {
      "cell_type": "markdown",
      "source": [
        "\n",
        "\n",
        "---\n",
        "\n"
      ],
      "metadata": {
        "id": "wn6BTI9dxsLn"
      }
    },
    {
      "cell_type": "markdown",
      "source": [
        "5. Create an iterator class in Python that generates the Fibonacci sequence up to a specified number of terms."
      ],
      "metadata": {
        "id": "78wOR3e2xuJC"
      }
    },
    {
      "cell_type": "code",
      "source": [
        "class FibonacciIterator:\n",
        "    def __init__(self, n):\n",
        "        self.n = n\n",
        "        self.current, self.next = 0, 1\n",
        "        self.count = 0\n",
        "\n",
        "    def __iter__(self):\n",
        "        return self\n",
        "\n",
        "    def __next__(self):\n",
        "        if self.count >= self.n:\n",
        "            raise StopIteration\n",
        "        fib = self.current\n",
        "        self.current, self.next = self.next, self.current + self.next\n",
        "        self.count += 1\n",
        "        return fib\n",
        "\n",
        "# Example\n",
        "fib = FibonacciIterator(10)\n",
        "print(list(fib))  # Output: [0, 1, 1, 2, 3, 5, 8, 13, 21, 34]\n"
      ],
      "metadata": {
        "colab": {
          "base_uri": "https://localhost:8080/"
        },
        "id": "ErIupnAMxzeA",
        "outputId": "92d3e1e3-9bd1-4133-d5c0-5cf5d7b7e19b"
      },
      "execution_count": 19,
      "outputs": [
        {
          "output_type": "stream",
          "name": "stdout",
          "text": [
            "[0, 1, 1, 2, 3, 5, 8, 13, 21, 34]\n"
          ]
        }
      ]
    },
    {
      "cell_type": "markdown",
      "source": [
        "\n",
        "\n",
        "---\n",
        "\n"
      ],
      "metadata": {
        "id": "fc28HqyWyNEN"
      }
    },
    {
      "cell_type": "markdown",
      "source": [
        "6. Write a generator function in Python that yields the powers of 2 up to a given exponent."
      ],
      "metadata": {
        "id": "Fe39fCPEyUqr"
      }
    },
    {
      "cell_type": "code",
      "source": [
        "def powers_of_two(exp):\n",
        "    for i in range(exp + 1):\n",
        "        yield 2**i\n",
        "\n",
        "# Example\n",
        "print(list(powers_of_two(5)))  # Output: [1, 2, 4, 8, 16, 32]\n"
      ],
      "metadata": {
        "colab": {
          "base_uri": "https://localhost:8080/"
        },
        "id": "k2TVuojayYIV",
        "outputId": "68a628b9-ff01-44ca-d857-d95fc31edfe7"
      },
      "execution_count": 20,
      "outputs": [
        {
          "output_type": "stream",
          "name": "stdout",
          "text": [
            "[1, 2, 4, 8, 16, 32]\n"
          ]
        }
      ]
    },
    {
      "cell_type": "markdown",
      "source": [
        "\n",
        "\n",
        "---\n",
        "\n"
      ],
      "metadata": {
        "id": "OAHSp5q9yaiA"
      }
    },
    {
      "cell_type": "markdown",
      "source": [
        "7. Implement a generator function that reads a file line by line and yields each line as a string"
      ],
      "metadata": {
        "id": "cO6sHYmlycWg"
      }
    },
    {
      "cell_type": "code",
      "source": [
        "def read_file_lines(filepath):\n",
        "    with open(filepath, 'r') as file:\n",
        "        for line in file:\n",
        "            yield line.strip()\n",
        "\n",
        "# Usage would require a file to read.\n"
      ],
      "metadata": {
        "id": "XBVTIb7DygmT"
      },
      "execution_count": 21,
      "outputs": []
    },
    {
      "cell_type": "markdown",
      "source": [
        "\n",
        "\n",
        "---\n",
        "\n"
      ],
      "metadata": {
        "id": "wA3C5etTyi1q"
      }
    },
    {
      "cell_type": "markdown",
      "source": [
        "8. Use a lambda function in Python to sort a list of tuples based on the second element of each tuple."
      ],
      "metadata": {
        "id": "Df7OAQrwyme3"
      }
    },
    {
      "cell_type": "code",
      "source": [
        "tuples = [(1, 3), (4, 1), (5, 2)]\n",
        "sorted_tuples = sorted(tuples, key=lambda x: x[1])\n",
        "print(sorted_tuples)  # Output: [(4, 1), (5, 2), (1, 3)]\n"
      ],
      "metadata": {
        "colab": {
          "base_uri": "https://localhost:8080/"
        },
        "id": "oC-3wMgayrFS",
        "outputId": "2a14447a-8e5f-4369-ec8d-95283aae911d"
      },
      "execution_count": 22,
      "outputs": [
        {
          "output_type": "stream",
          "name": "stdout",
          "text": [
            "[(4, 1), (5, 2), (1, 3)]\n"
          ]
        }
      ]
    },
    {
      "cell_type": "markdown",
      "source": [
        "\n",
        "\n",
        "---\n",
        "\n"
      ],
      "metadata": {
        "id": "vGABwkdTyvUH"
      }
    },
    {
      "cell_type": "markdown",
      "source": [
        "9. Write a Python program that uses map() to convert a list of temperatures from Celsius to Fahrenheit."
      ],
      "metadata": {
        "id": "7neqKNzSywyE"
      }
    },
    {
      "cell_type": "code",
      "source": [
        "def celsius_to_fahrenheit(celsius):\n",
        "    return list(map(lambda c: (c * 9/5) + 32, celsius))\n",
        "\n",
        "# Example\n",
        "print(celsius_to_fahrenheit([0, 100, -40]))  # Output: [32.0, 212.0, -40.0]\n"
      ],
      "metadata": {
        "colab": {
          "base_uri": "https://localhost:8080/"
        },
        "id": "B3NCSUg0y1Eh",
        "outputId": "c66f9925-c592-4543-9623-354cfbdcb40e"
      },
      "execution_count": 23,
      "outputs": [
        {
          "output_type": "stream",
          "name": "stdout",
          "text": [
            "[32.0, 212.0, -40.0]\n"
          ]
        }
      ]
    },
    {
      "cell_type": "markdown",
      "source": [
        "\n",
        "\n",
        "---\n",
        "\n"
      ],
      "metadata": {
        "id": "49bo1ri3y32K"
      }
    },
    {
      "cell_type": "markdown",
      "source": [
        "10. Create a Python program that uses filter() to remove all the vowels from a given string."
      ],
      "metadata": {
        "id": "40hZYKHny5wE"
      }
    },
    {
      "cell_type": "code",
      "source": [
        "def remove_vowels(s):\n",
        "    vowels = \"aeiouAEIOU\"\n",
        "    return ''.join(filter(lambda char: char not in vowels, s))\n",
        "\n",
        "# Example\n",
        "print(remove_vowels(\"hello world\"))  # Output: \"hll wrld\"\n"
      ],
      "metadata": {
        "colab": {
          "base_uri": "https://localhost:8080/"
        },
        "id": "z6R24z2Xy9BR",
        "outputId": "b7581b59-768e-4c65-a7ba-9e9077c5946e"
      },
      "execution_count": 24,
      "outputs": [
        {
          "output_type": "stream",
          "name": "stdout",
          "text": [
            "hll wrld\n"
          ]
        }
      ]
    },
    {
      "cell_type": "markdown",
      "source": [
        "\n",
        "\n",
        "---\n",
        "\n"
      ],
      "metadata": {
        "id": "LX9kj_QNy_My"
      }
    },
    {
      "cell_type": "markdown",
      "source": [
        "11. Write a Python program, which returns a list with 2-tuples. Each tuple consists of the order number and the product of the price per item and the quantity. Add 10€ to the product if it is less than 100€."
      ],
      "metadata": {
        "id": "1fp3dinxzAtu"
      }
    },
    {
      "cell_type": "code",
      "source": [
        "# Values (orders) taken as per the assignment sheet\n",
        "\n",
        "orders = [\n",
        "    [34587, 4, 40.95],  # [Order Number, Quantity, Price per Item]\n",
        "    [98762, 3, 22.30],\n",
        "    [77226, 5, 12.99],\n",
        "    [88112, 2, 24.00]\n",
        "]\n",
        "\n",
        "# Calculate total cost and apply €10 surcharge if the total is less than €100\n",
        "result = list(map(lambda x: (x[0], x[1] * x[2] + 10 if x[1] * x[2] < 100 else x[1] * x[2]), orders))\n",
        "\n",
        "# Example output\n",
        "print(result)\n",
        "# Output: [(34587, 163.8), (98762, 76.9), (77226, 74.95), (88112, 58.0)]\n"
      ],
      "metadata": {
        "colab": {
          "base_uri": "https://localhost:8080/"
        },
        "id": "tVZnXvEMzNvE",
        "outputId": "32e4a04f-c99e-4649-d4d5-552472e66fb1"
      },
      "execution_count": 25,
      "outputs": [
        {
          "output_type": "stream",
          "name": "stdout",
          "text": [
            "[(34587, 163.8), (98762, 76.9), (77226, 74.95), (88112, 58.0)]\n"
          ]
        }
      ]
    }
  ]
}