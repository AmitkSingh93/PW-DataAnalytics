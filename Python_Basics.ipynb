{
  "nbformat": 4,
  "nbformat_minor": 0,
  "metadata": {
    "colab": {
      "provenance": [],
      "gpuType": "T4"
    },
    "kernelspec": {
      "name": "python3",
      "display_name": "Python 3"
    },
    "language_info": {
      "name": "python"
    }
  },
  "cells": [
    {
      "cell_type": "code",
      "execution_count": null,
      "metadata": {
        "id": "u4_l6gjsd0k0"
      },
      "outputs": [],
      "source": []
    },
    {
      "cell_type": "markdown",
      "source": [
        "# **Python Basics**"
      ],
      "metadata": {
        "id": "75rQM7zceDPE"
      }
    },
    {
      "cell_type": "markdown",
      "source": [
        "### Python Basics Questions"
      ],
      "metadata": {
        "id": "uMt9vyv9q65_"
      }
    },
    {
      "cell_type": "markdown",
      "source": [
        "1. What is Python, and why is it popular?\n",
        "- Python is a high-level, interpreted, and general-purpose programming language. It is popular because:\n",
        "\n",
        "- Easy to learn and use due to its simple syntax.\n",
        "\n",
        "- Extensive libraries and frameworks for diverse applications.\n",
        "\n",
        "- Versatile for web development, data analysis, AI, Machine Learning, etc.\n",
        "\n",
        "- Large and active community. "
      ],
      "metadata": {
        "id": "oU-1NQWVehYx"
      }
    },
    {
      "cell_type": "markdown",
      "source": [
        "2. What is an interpreter in Python?\n",
        "- An interpreter in Python executes Python code line by line, converting it into machine code. It makes debugging easier by stopping at the point of error and eliminates the need for compilation."
      ],
      "metadata": {
        "id": "_Y_R5-PEgA0o"
      }
    },
    {
      "cell_type": "markdown",
      "source": [
        "3. What are pre-defined keywords in Python?\n",
        "- Pre-defined keywords are reserved words in Python with special meanings, like, *if, else, for, while, class,* etc. They cannot be used as variable names."
      ],
      "metadata": {
        "id": "FY07CLQrgvPM"
      }
    },
    {
      "cell_type": "markdown",
      "source": [
        "4. Can keywords be used as variable names?\n",
        "- No, keywords cannot be used as variable names because they are reserved by Python for specific purposes. If used, it will throw a syntax error."
      ],
      "metadata": {
        "id": "7b3FOElLhNu3"
      }
    },
    {
      "cell_type": "markdown",
      "source": [
        "5. What is mutability in Python?\n",

        "- Mutability refers to whether an object’s state can be modified after it is created.\n",
        "\n",
        "* Mutable objects e.g., (lists, dictionary) can change.\n",
        "\n",
        "- Immutable objects e.g., (tuples, strings) cannot be changed."
      ],
      "metadata": {
        "id": "0WbHaYtohn9f"
      }
    },
    {
      "cell_type": "markdown",
      "source": [
        "6. Why are lists mutable, but tuples are immutable?\n",
        "- Lists: Designed for dynamic data, allowing modifications (e.g., append, remove).\n",
        "\n",
        "- Tuples: Optimized for fixed collections of data, ensuring reliability."
      ],
      "metadata": {
        "id": "3IHIM08OieOc"
      }
    },
    {
      "cell_type": "markdown",
      "source": [
        "7. What is the difference between == and is operators in Python?\n",
        "\n",
        "- (==) : Checks if the values of two objects are equal.\n",
        "\n",
        "- (is) : Checks if two objects point to the same memory location."
      ],
      "metadata": {
        "id": "kA1FHEavjqA2"
      }
    },
    {
      "cell_type": "markdown",
      "source": [
        "8. What are logical operators in Python?\n",
        "\n",
        "------> Logical operators are used to combine conditional statements:\n",
        "\n",
        "\n",
        "- and : True if both conditions are true.\n",
        "- or : True if at least one condition is true.\n",
        "- not : Negates a condition."
      ],
      "metadata": {
        "id": "KG5DWKXmkav3"
      }
    },
    {
      "cell_type": "markdown",
      "source": [
        "9. What is type casting in Python?\n",
        "- Type casting is converting one data type into another, like int() to convert a string to an integer."
      ],
      "metadata": {
        "id": "ckXd6zTDlbSY"
      }
    },
    {
      "cell_type": "markdown",
      "source": [
        "10. What is the difference between implicit and explicit type casting?\n",
        "- Implicit: Automatically done by Python (e.g., integer to float).\n",
        "- Explicit: Manually done by the programmer using functions like int(), float().\n"
      ],
      "metadata": {
        "id": "93mqNSwilM6U"
      }
    },
    {
      "cell_type": "markdown",
      "source": [
        "11. What is the purpose of conditional statements in Python?\n",
        "- They allow decision-making in programs by executing code based on conditions e.g.,( if, else)."
      ],
      "metadata": {
        "id": "hDvLMo_lmQ60"
      }
    },
    {
      "cell_type": "markdown",
      "source": [
        "13. What is the difference between for and while loops?\n",
        "- for: Iterates over a sequence (e.g., list, range).\n",
        "- while: Runs as long as a condition is true, suitable for indeterminate loops"
      ],
      "metadata": {
        "id": "1WO3YwvzmkWe"
      }
    },
    {
      "cell_type": "markdown",
      "source": [
        "14. Describe a scenario where a while loop is more suitable than a for loop.\n",
        "- When the number of iterations is unknown beforehand, like waiting for a user to input \"quit\" to stop. # Let's imagine a program that keeps asking the user for a password until they enter the correct one. The number of attempts is unknown, so a while loop is more appropriate here."
      ],
      "metadata": {
        "id": "s6YuoKbRm7MA"
      }
    },
    {
      "cell_type": "markdown",
      "source": [
        "### Python Practical Questions"
      ],
      "metadata": {
        "id": "BhxlHRsIrP4T"
      }
    },
    {
      "cell_type": "code",
      "source": [
        "# 1. Write a Python program to print \"Hello, World!\"\n",
        "\n",
        "print(\"Hello, World!\")\n"
      ],
      "metadata": {
        "colab": {
          "base_uri": "https://localhost:8080/"
        },
        "id": "ZG8MISYkoH6u",
        "outputId": "ae27460c-15a7-4bf9-9f5b-75e0ae7f9e6d"
      },
      "execution_count": 1,
      "outputs": [
        {
          "output_type": "stream",
          "name": "stdout",
          "text": [
            "Hello, World!\n"
          ]
        }
      ]
    },
    {
      "cell_type": "code",
      "source": [
        "# 2. Write a Python program that displays your name and age.\n",
        "\n",
        "name = \"Amit\"\n",
        "age = 30\n",
        "print(f\"My name is {name} and I am {age} years old.\")\n"
      ],
      "metadata": {
        "colab": {
          "base_uri": "https://localhost:8080/"
        },
        "id": "uoX2NHYrpLEh",
        "outputId": "b29cfcd5-46ba-42ec-c112-e77044e1a535"
      },
      "execution_count": 2,
      "outputs": [
        {
          "output_type": "stream",
          "name": "stdout",
          "text": [
            "My name is Amit and I am 30 years old.\n"
          ]
        }
      ]
    },
    {
      "cell_type": "code",
      "source": [
        "# 3. Write code to print all the pre-defined keywords in Python using the keyword library.\n",
        "\n",
        "import keyword\n",
        "print(keyword.kwlist)\n"
      ],
      "metadata": {
        "colab": {
          "base_uri": "https://localhost:8080/"
        },
        "id": "Y4wU_q3qqHOU",
        "outputId": "42875544-60b3-4822-f28b-721868574602"
      },
      "execution_count": 1,
      "outputs": [
        {
          "output_type": "stream",
          "name": "stdout",
          "text": [
            "['False', 'None', 'True', 'and', 'as', 'assert', 'async', 'await', 'break', 'class', 'continue', 'def', 'del', 'elif', 'else', 'except', 'finally', 'for', 'from', 'global', 'if', 'import', 'in', 'is', 'lambda', 'nonlocal', 'not', 'or', 'pass', 'raise', 'return', 'try', 'while', 'with', 'yield']\n"
          ]
        }
      ]
    },
    {
      "cell_type": "code",
      "source": [
        "# 4. Write a program that checks if a given word is a Python keyword.\n",
        "\n",
        "import keyword\n",
        "word = input(\"Enter a word: \")\n",
        "if keyword.iskeyword(word):\n",
        "    print(f\"'{word}' is a Python keyword.\")\n",
        "else:\n",
        "    print(f\"'{word}' is not a Python keyword.\")\n"
      ],
      "metadata": {
        "colab": {
          "base_uri": "https://localhost:8080/"
        },
        "id": "Z2UpW08XqlVE",
        "outputId": "c1d7d0ac-b48d-4883-cfc1-318f76f3630d"
      },
      "execution_count": 2,
      "outputs": [
        {
          "output_type": "stream",
          "name": "stdout",
          "text": [
            "Enter a word: class\n",
            "'class' is a Python keyword.\n"
          ]
        }
      ]
    },
    {
      "cell_type": "code",
      "source": [
        "# 5. Create a list and tuple in Python, and demonstrate how attempting to change an element works differently for each.\n",
        "\n",
        "# List (Mutable)\n",
        "my_list = [1, 2, 3]\n",
        "my_list[1] = 20\n",
        "print(\"Modified List:\", my_list)\n",
        "\n",
        "# Tuple (Immutable)\n",
        "my_tuple = (1, 2, 3)\n",
        "try:\n",
        "    my_tuple[1] = 20\n",
        "except TypeError:\n",
        "    print(\"Tuples are immutable and cannot be modified.\")\n"
      ],
      "metadata": {
        "colab": {
          "base_uri": "https://localhost:8080/"
        },
        "id": "VDi22crmsBtN",
        "outputId": "9a0cf178-4d71-40f9-beef-07e5e70c30d2"
      },
      "execution_count": 3,
      "outputs": [
        {
          "output_type": "stream",
          "name": "stdout",
          "text": [
            "Modified List: [1, 20, 3]\n",
            "Tuples are immutable and cannot be modified.\n"
          ]
        }
      ]
    },
    {
      "cell_type": "code",
      "source": [
        "# 6. Write a function to demonstrate the behavior of mutable and immutable arguments.\n",
        "\n",
        "\n",
        "# Function to demonstrate mutable and immutable behavior\n",
        "def modify_objects(mutable, immutable):\n",
        "    # Modifying the mutable object (list)\n",
        "    mutable.append(100)\n",
        "\n",
        "    # Trying to modify the immutable object (integer)\n",
        "    immutable += 100\n",
        "    print(\"Inside the function:\")\n",
        "    print(\"Mutable object (list):\", mutable)\n",
        "    print(\"Immutable object (integer):\", immutable)\n",
        "\n",
        "# Define a mutable object (list)\n",
        "my_list = [1, 2, 3]\n",
        "\n",
        "# Define an immutable object (integer)\n",
        "my_number = 50\n",
        "\n",
        "# Call the function with the mutable and immutable objects\n",
        "modify_objects(my_list, my_number)\n",
        "\n",
        "# Check the values after the function call\n",
        "print(\"Outside the function:\")\n",
        "print(\"Mutable object (list):\", my_list)  # The list is modified\n",
        "print(\"Immutable object (integer):\", my_number)  # The integer remains unchanged\n"
      ],
      "metadata": {
        "colab": {
          "base_uri": "https://localhost:8080/"
        },
        "id": "h0nE8sAdskoA",
        "outputId": "0c1a6001-b9a7-4abf-f2c7-7abbb82d2a4f"
      },
      "execution_count": 4,
      "outputs": [
        {
          "output_type": "stream",
          "name": "stdout",
          "text": [
            "Inside the function:\n",
            "Mutable object (list): [1, 2, 3, 100]\n",
            "Immutable object (integer): 150\n",
            "Outside the function:\n",
            "Mutable object (list): [1, 2, 3, 100]\n",
            "Immutable object (integer): 50\n"
          ]
        }
      ]
    },
    {
      "cell_type": "code",
      "source": [
        "# 7. Write a program to demonstrate the use of logical operators.\n",
        "\n",
        "a = 10\n",
        "b = 20\n",
        "c = 30\n",
        "\n",
        "print(a < b and b < c)  # True\n",
        "print(a > b or b < c)   # True\n",
        "print(not(a > c))       # True\n"
      ],
      "metadata": {
        "colab": {
          "base_uri": "https://localhost:8080/"
        },
        "id": "8nxwHRYjzM8b",
        "outputId": "4efb1db9-0a32-4f70-9db0-f77291da1d6d"
      },
      "execution_count": 5,
      "outputs": [
        {
          "output_type": "stream",
          "name": "stdout",
          "text": [
            "True\n",
            "True\n",
            "True\n"
          ]
        }
      ]
    },
    {
      "cell_type": "code",
      "source": [
        "# 8. Write a Python program to convert user input from string to integer, float, and boolean types.\n",
        "\n",
        "user_input = input(\"Enter a value: \")\n",
        "print(int(user_input), float(user_input), bool(user_input))\n"
      ],
      "metadata": {
        "colab": {
          "base_uri": "https://localhost:8080/"
        },
        "id": "e58-S6hiz7er",
        "outputId": "9db3639a-1059-4023-ead9-e4c53fc19fd0"
      },
      "execution_count": 12,
      "outputs": [
        {
          "output_type": "stream",
          "name": "stdout",
          "text": [
            "Enter a value: 20\n",
            "20 20.0 True\n"
          ]
        }
      ]
    },
    {
      "cell_type": "code",
      "source": [
        "# 9. Write code to demonstrate type casting with list elements.\n",
        "\n",
        "my_list = [\"1\", \"2\", \"3\"] # objects in the list are string type\n",
        "my_list = [int(x) for x in my_list] # conversion of strings in the list to integer type\n",
        "print(my_list)\n"
      ],
      "metadata": {
        "colab": {
          "base_uri": "https://localhost:8080/"
        },
        "id": "sgyn3fEq01tK",
        "outputId": "c864cda1-2ad7-4306-b58e-217023448dd9"
      },
      "execution_count": 13,
      "outputs": [
        {
          "output_type": "stream",
          "name": "stdout",
          "text": [
            "[1, 2, 3]\n"
          ]
        }
      ]
    },
    {
      "cell_type": "code",
      "source": [
        "# 9. Write a program that checks if a number is positive, negative, or zero.\n",
        "\n",
        "num = int(input(\"Enter a number: \"))\n",
        "if num > 0:\n",
        "    print(\"Positive\")\n",
        "elif num < 0:\n",
        "    print(\"Negative\")\n",
        "else:\n",
        "    print(\"Zero\")\n"
      ],
      "metadata": {
        "colab": {
          "base_uri": "https://localhost:8080/"
        },
        "id": "RSudRahv2Iw7",
        "outputId": "c5c5ec39-5fa0-493c-e622-9d3d786eaaa3"
      },
      "execution_count": 14,
      "outputs": [
        {
          "output_type": "stream",
          "name": "stdout",
          "text": [
            "Enter a number: 2\n",
            "Positive\n"
          ]
        }
      ]
    },
    {
      "cell_type": "code",
      "source": [
        "# 10. Write a for loop to print numbers from 1 to 100.\n",
        "\n",
        "for i in range(1, 101):\n",
        "    print(i)\n"
      ],
      "metadata": {
        "colab": {
          "base_uri": "https://localhost:8080/"
        },
        "id": "Tq1qGJEb23Xh",
        "outputId": "87ddf4c6-24a7-4801-80f9-85326b3a5e95"
      },
      "execution_count": 15,
      "outputs": [
        {
          "output_type": "stream",
          "name": "stdout",
          "text": [
            "1\n",
            "2\n",
            "3\n",
            "4\n",
            "5\n",
            "6\n",
            "7\n",
            "8\n",
            "9\n",
            "10\n",
            "11\n",
            "12\n",
            "13\n",
            "14\n",
            "15\n",
            "16\n",
            "17\n",
            "18\n",
            "19\n",
            "20\n",
            "21\n",
            "22\n",
            "23\n",
            "24\n",
            "25\n",
            "26\n",
            "27\n",
            "28\n",
            "29\n",
            "30\n",
            "31\n",
            "32\n",
            "33\n",
            "34\n",
            "35\n",
            "36\n",
            "37\n",
            "38\n",
            "39\n",
            "40\n",
            "41\n",
            "42\n",
            "43\n",
            "44\n",
            "45\n",
            "46\n",
            "47\n",
            "48\n",
            "49\n",
            "50\n",
            "51\n",
            "52\n",
            "53\n",
            "54\n",
            "55\n",
            "56\n",
            "57\n",
            "58\n",
            "59\n",
            "60\n",
            "61\n",
            "62\n",
            "63\n",
            "64\n",
            "65\n",
            "66\n",
            "67\n",
            "68\n",
            "69\n",
            "70\n",
            "71\n",
            "72\n",
            "73\n",
            "74\n",
            "75\n",
            "76\n",
            "77\n",
            "78\n",
            "79\n",
            "80\n",
            "81\n",
            "82\n",
            "83\n",
            "84\n",
            "85\n",
            "86\n",
            "87\n",
            "88\n",
            "89\n",
            "90\n",
            "91\n",
            "92\n",
            "93\n",
            "94\n",
            "95\n",
            "96\n",
            "97\n",
            "98\n",
            "99\n",
            "100\n"
          ]
        }
      ]
    },
    {
      "cell_type": "code",
      "source": [
        "# 11. Write a Python program to find the sum of all even numbers between 1 and 500.\n",
        "\n",
        "even_sum = sum(i for i in range(1, 501) if i % 2 == 0)\n",
        "\"\"\"This creates a sequence of numbers starting from 1 to 500.\n",
        "If condition checks every current number is even by using the modulo operator (%).\n",
        "If i is divided my 2 and remainder is 0, then it is even.\"\"\"\n",
        "\n",
        "print(\"Sum of even numbers:\", even_sum)\n"
      ],
      "metadata": {
        "colab": {
          "base_uri": "https://localhost:8080/"
        },
        "id": "wpK0CMK93Hg_",
        "outputId": "9346f885-62a6-4a1a-e352-712eba99fffe"
      },
      "execution_count": 16,
      "outputs": [
        {
          "output_type": "stream",
          "name": "stdout",
          "text": [
            "Sum of even numbers: 62750\n"
          ]
        }
      ]
    },
    {
      "cell_type": "code",
      "source": [
        "# 12. Write a program to reverse a string using a while loop.\n",
        "\n",
        "string = \"Encyclopedia\"\n",
        "reversed_string = \"\" # This will store the reversed version of the original string.\n",
        "i = len(string) - 1 # The variable i is initialized to the length of the string minus 1\n",
        "while i >= 0: # This loop continues as long as the value of i is greater than or equal to 0.\n",
        "    reversed_string += string[i]\n",
        "    i -= 1                 # This line decrements the value of i by 1 in each iteration.\n",
        "print(reversed_string)\n"
      ],
      "metadata": {
        "colab": {
          "base_uri": "https://localhost:8080/"
        },
        "id": "jvf0Ox8y6BYK",
        "outputId": "bdbe7e36-e265-458c-9ad6-42636bd2a9fd"
      },
      "execution_count": 17,
      "outputs": [
        {
          "output_type": "stream",
          "name": "stdout",
          "text": [
            "aidepolcycnE\n"
          ]
        }
      ]
    },
    {
      "cell_type": "code",
      "source": [
        "# 13. Write a Python program to calculate the factorial of a number provided by the user using a while loop.\n",
        "\n",
        "num = int(input(\"Enter a number: \")) # The input is converted from a string to an integer and stored in the variable num.\n",
        "factorial = 1\n",
        "while num > 1:\n",
        "    factorial *= num\n",
        "    num -= 1\n",
        "print(\"Factorial:\", factorial, \"(the product of all positive integers less than or equal to a given positive integer)\")\n"
      ],
      "metadata": {
        "colab": {
          "base_uri": "https://localhost:8080/"
        },
        "id": "MPHFPM4dI3YC",
        "outputId": "f7406b43-6ad5-4435-9d7c-04af0328193e"
      },
      "execution_count": 21,
      "outputs": [
        {
          "output_type": "stream",
          "name": "stdout",
          "text": [
            "Enter a number: 5\n",
            "Factorial: 120 (the product of all positive integers less than or equal to a given positive integer)\n"
          ]
        }
      ]
    }
  ]
}
