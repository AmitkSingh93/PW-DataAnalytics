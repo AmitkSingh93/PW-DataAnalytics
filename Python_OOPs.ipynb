{
  "nbformat": 4,
  "nbformat_minor": 0,
  "metadata": {
    "colab": {
      "provenance": [],
      "authorship_tag": "ABX9TyNzKBobVq99HHYuQgUTbW8/",
      "include_colab_link": true
    },
    "kernelspec": {
      "name": "python3",
      "display_name": "Python 3"
    },
    "language_info": {
      "name": "python"
    }
  },
  "cells": [
    {
      "cell_type": "markdown",
      "metadata": {
        "id": "view-in-github",
        "colab_type": "text"
      },
      "source": [
        "<a href=\"https://colab.research.google.com/github/AmitkSingh93/PW-DataAnalytics/blob/main/Python_OOPs.ipynb\" target=\"_parent\"><img src=\"https://colab.research.google.com/assets/colab-badge.svg\" alt=\"Open In Colab\"/></a>"
      ]
    },
    {
      "cell_type": "markdown",
      "source": [
        "# **THEORY QUESTIONS**"
      ],
      "metadata": {
        "id": "oY1rRxE3WoAk"
      }
    },
    {
      "cell_type": "markdown",
      "source": [
        "1. What is Object-Oriented Programming (OOP)?\n",
        "- OOP is a programming paradigm based on the concept of objects that contain data (attributes) and methods (functions). It emphasizes concepts like inheritance, polymorphism, encapsulation, and abstraction to design modular and reusable code."
      ],
      "metadata": {
        "id": "KRt7K_LpeA-P"
      }
    },
    {
      "cell_type": "markdown",
      "source": [
        "\n",
        "\n",
        "---\n",
        "\n"
      ],
      "metadata": {
        "id": "SfyTPylreUwa"
      }
    },
    {
      "cell_type": "markdown",
      "source": [
        "2. What is a class in OOP?\n",
        "- A class is a blueprint for creating objects. It defines attributes (data members) and methods (functions) that the objects instantiated from the class will have."
      ],
      "metadata": {
        "id": "7g51flvWeXOf"
      }
    },
    {
      "cell_type": "markdown",
      "source": [
        "\n",
        "\n",
        "---\n",
        "\n"
      ],
      "metadata": {
        "id": "w4wZB9Ezee6P"
      }
    },
    {
      "cell_type": "markdown",
      "source": [
        "3. What is an object in OOP?\n",
        "- An object is an instance of a class. It is a concrete entity that encapsulates data and behavior defined by its class."
      ],
      "metadata": {
        "id": "BX1Rvklvefy4"
      }
    },
    {
      "cell_type": "markdown",
      "source": [
        "\n",
        "\n",
        "---\n",
        "\n"
      ],
      "metadata": {
        "id": "eUaolj6ueoT3"
      }
    },
    {
      "cell_type": "markdown",
      "source": [
        "4. What is the difference between abstraction and encapsulation?\n",
        "\n",
        "- Abstraction: Hiding implementation details and showing only essential features. It focuses on \"what\" an object does.\n",
        "-Encapsulation: Wrapping data and methods into a single unit and restricting direct access to some components. It focuses on \"how\" the details are hidden."
      ],
      "metadata": {
        "id": "mmD9-m6_epSK"
      }
    },
    {
      "cell_type": "markdown",
      "source": [
        "\n",
        "\n",
        "---\n",
        "\n"
      ],
      "metadata": {
        "id": "mmbL65ArgUzq"
      }
    },
    {
      "cell_type": "markdown",
      "source": [
        "5. What are dunder methods in Python?\n",
        "- Dunder (double underscore) methods, also called magic methods, are special methods with `__` prefix and suffix. Examples include `__init__`, `__str__`, and `__add__`. They allow you to define behavior for built-in operations."
      ],
      "metadata": {
        "id": "duRduFoigVp5"
      }
    },
    {
      "cell_type": "markdown",
      "source": [
        "\n",
        "\n",
        "---\n",
        "\n"
      ],
      "metadata": {
        "id": "L8qCztU_nFKs"
      }
    },
    {
      "cell_type": "markdown",
      "source": [
        "6. Explain the concept of inheritance in OOP.\n",
        "- Inheritance is a mechanism where one class (child) derives or inherits properties and behaviors from another class (parent). It promotes code reuse and enables hierarchical classification."
      ],
      "metadata": {
        "id": "WyvvecVznGPo"
      }
    },
    {
      "cell_type": "markdown",
      "source": [
        "\n",
        "\n",
        "---\n",
        "\n"
      ],
      "metadata": {
        "id": "DkiLvhrznOrh"
      }
    },
    {
      "cell_type": "markdown",
      "source": [
        "7. What is polymorphism in OOP?\n",
        "- Polymorphism allows objects of different classes to be treated as objects of a common superclass. It enables the same function name to work differently based on the object calling it."
      ],
      "metadata": {
        "id": "z79ddY07nQFR"
      }
    },
    {
      "cell_type": "markdown",
      "source": [
        "\n",
        "\n",
        "---\n",
        "\n"
      ],
      "metadata": {
        "id": "yA4cFHlTnbeS"
      }
    },
    {
      "cell_type": "markdown",
      "source": [
        "8. How is encapsulation achieved in Python?\n",
        "- Encapsulation is achieved using access specifiers:\n",
        "\n",
        "- Public attributes: Accessible everywhere.\n",
        "- Protected attributes: Prefixed with `_`.\n",
        "- Private attributes: Prefixed with `__`."
      ],
      "metadata": {
        "id": "_2NwZLlxnc3L"
      }
    },
    {
      "cell_type": "markdown",
      "source": [
        "\n",
        "\n",
        "---\n",
        "\n"
      ],
      "metadata": {
        "id": "Xklccchbn_iN"
      }
    },
    {
      "cell_type": "markdown",
      "source": [
        "9. What is a constructor in Python?\n",
        "- A constructor is a special method, `__init__`, automatically called when an object is created. It initializes the object's attributes."
      ],
      "metadata": {
        "id": "AuVxyYRhoA6W"
      }
    },
    {
      "cell_type": "markdown",
      "source": [
        "\n",
        "\n",
        "---\n",
        "\n"
      ],
      "metadata": {
        "id": "UyDdX2QkoysU"
      }
    },
    {
      "cell_type": "markdown",
      "source": [
        "10. What are class and static methods in Python?\n",
        "\n",
        "- Class methods: Defined using `@classmethod`, they take `cls` as their first argument and can modify the class state.\n",
        "-Static methods: Defined using `@staticmethod`, they do not take `self` or `cls` and act like regular functions within the class."
      ],
      "metadata": {
        "id": "NCpBko4npSMo"
      }
    },
    {
      "cell_type": "markdown",
      "source": [
        "11. What is method overloading in Python?\n",
        "- Python does not support traditional method overloading, but you can achieve it by using default arguments or variable-length arguments `( *args, **kwargs).`"
      ],
      "metadata": {
        "id": "94-krc0Tphp9"
      }
    },
    {
      "cell_type": "markdown",
      "source": [
        "\n",
        "\n",
        "---\n",
        "\n"
      ],
      "metadata": {
        "id": "452czqwfrkUT"
      }
    },
    {
      "cell_type": "markdown",
      "source": [
        "12. What is method overriding in OOP?\n",
        "- Method overriding occurs when a child class provides a specific implementation of a method already defined in its parent class."
      ],
      "metadata": {
        "id": "P4RVdUmprlUm"
      }
    },
    {
      "cell_type": "markdown",
      "source": [
        "\n",
        "\n",
        "---\n",
        "\n"
      ],
      "metadata": {
        "id": "Plsh_dnzruX5"
      }
    },
    {
      "cell_type": "markdown",
      "source": [
        "13. What is a property decorator in Python?\n",
        "The `@property` decorator is used to define getter, setter, and deleter methods for attributes, allowing controlled access."
      ],
      "metadata": {
        "id": "kaT5U_eDrvyC"
      }
    },
    {
      "cell_type": "markdown",
      "source": [
        "\n",
        "\n",
        "---\n",
        "\n"
      ],
      "metadata": {
        "id": "xw2WsbUYr8Y5"
      }
    },
    {
      "cell_type": "markdown",
      "source": [
        "14. Why is polymorphism important in OOP?\n",
        "- Polymorphism enhances flexibility and maintainability by allowing a single interface to handle different data types or objects.\n",
        "\n",
        "\n",
        "---\n",
        "\n"
      ],
      "metadata": {
        "id": "mlJoRKuNr-R9"
      }
    },
    {
      "cell_type": "markdown",
      "source": [
        "15. What is an abstract class in Python?\n",
        "- An abstract class is a class that cannot be instantiated and often contains one or more abstract methods (declared but not implemented). It is defined using the `abc` module.\n",
        "\n",
        "\n",
        "\n",
        "---\n",
        "\n"
      ],
      "metadata": {
        "id": "b2wZyHWbsHCz"
      }
    },
    {
      "cell_type": "markdown",
      "source": [
        "16. What are the advantages of OOP?\n",
        "\n",
        "- Modularity and reusability\n",
        "-Code maintainability\n",
        "-Encapsulation of data\n",
        "-Scalability and flexibility\n",
        "-Easier troubleshooting\n",
        "\n",
        "\n",
        "\n",
        "---\n",
        "\n"
      ],
      "metadata": {
        "id": "W4ooJq5Dsbxp"
      }
    },
    {
      "cell_type": "markdown",
      "source": [
        "17. What is multiple inheritance in Python?\n",
        "- Multiple inheritance allows a class to inherit from more than one parent class. It enables sharing features across multiple classes.\n",
        "\n",
        "\n",
        "\n",
        "---\n",
        "\n"
      ],
      "metadata": {
        "id": "8tsrzSpFsnv4"
      }
    },
    {
      "cell_type": "markdown",
      "source": [
        "18. What is the difference between a class variable and an instance variable?\n",
        "\n",
        "- Class variable: Shared across all instances of the class.\n",
        "- Instance variable: Unique to each instance of the class.\n",
        "\n",
        "\n",
        "\n",
        "---\n",
        "\n"
      ],
      "metadata": {
        "id": "PgHYO1tOswJ0"
      }
    },
    {
      "cell_type": "markdown",
      "source": [
        "19. Explain the purpose of `__str__` and `__repr__` methods in Python.\n",
        "\n",
        "- `__str__`: Returns a human-readable string representation of an object.\n",
        "- `__repr__`: Returns a developer-friendly representation, often for debugging.\n",
        "\n",
        "\n",
        "\n",
        "---\n",
        "\n"
      ],
      "metadata": {
        "id": "Q3XxN0NytAT9"
      }
    },
    {
      "cell_type": "markdown",
      "source": [
        "20. What is the significance of the `super()` function in Python?\n",
        "- The `super()` function is used to call methods of a parent class, enabling method overriding and access to the parent class's implementation.\n",
        "\n",
        "\n",
        "\n",
        "---\n",
        "\n"
      ],
      "metadata": {
        "id": "7LeAEQBKtlkO"
      }
    },
    {
      "cell_type": "markdown",
      "source": [
        "21. What is the significance of the `__del__` method in Python?\n",
        "- The `__del__` method is a destructor called when an object is about to be destroyed, allowing cleanup tasks like closing files or releasing resources.\n",
        "\n",
        "\n",
        "\n",
        "---\n",
        "\n"
      ],
      "metadata": {
        "id": "2y1uMnnVuLvx"
      }
    },
    {
      "cell_type": "markdown",
      "source": [
        "22. What is the difference between `@staticmethod` and `@classmethod` in Python?\n",
        "\n",
        "- `@staticmethod`: Does not access class or instance-specific data.\n",
        "-`@classmethod`: Accesses and modifies class-level data using `cls`.\n",
        "\n",
        "\n",
        "\n",
        "---\n",
        "\n"
      ],
      "metadata": {
        "id": "V6rX6mxxuc8M"
      }
    },
    {
      "cell_type": "markdown",
      "source": [
        "23. How does polymorphism work in Python with inheritance?\n",
        "- Polymorphism works by allowing methods in child classes to override or extend methods in the parent class. The appropriate method is executed based on the object's class.\n",
        "\n",
        "\n",
        "\n",
        "---\n",
        "\n"
      ],
      "metadata": {
        "id": "Bf3ztN32ux--"
      }
    },
    {
      "cell_type": "markdown",
      "source": [
        "24. What is method chaining in Python OOP?\n",
        "- Method chaining allows multiple methods to be called on the same object in a single line, typically by returning `self` from each method.\n",
        "\n",
        "\n",
        "\n",
        "---\n",
        "\n"
      ],
      "metadata": {
        "id": "gn3fATRNu-Dx"
      }
    },
    {
      "cell_type": "markdown",
      "source": [
        "25. What is the purpose of the `__call__` method in Python?\n",
        "The `__call__` method allows an object to be called like a function. It is defined with `def __call__(self, ...)`.\n",
        "\n",
        "\n",
        "\n",
        "---\n",
        "\n"
      ],
      "metadata": {
        "id": "PleXRBQ-vcSC"
      }
    },
    {
      "cell_type": "markdown",
      "source": [
        "# **PRACTICAL QUESTIONS**"
      ],
      "metadata": {
        "id": "uvqXkfKvv4fL"
      }
    },
    {
      "cell_type": "markdown",
      "source": [
        "1. Parent Class Animal with speak() Overridden in Child Class Dog."
      ],
      "metadata": {
        "id": "sBw_pHcCv_uW"
      }
    },
    {
      "cell_type": "code",
      "source": [
        "class Animal:\n",
        "    def speak(self):\n",
        "        print(\"This is a generic animal sound.\")\n",
        "\n",
        "class Dog(Animal):\n",
        "    def speak(self):\n",
        "        print(\"Bark!\")\n",
        "\n",
        "# Example\n",
        "a = Animal()\n",
        "a.speak()\n",
        "\n",
        "d = Dog()\n",
        "d.speak()\n"
      ],
      "metadata": {
        "id": "g64QCjFbwczh"
      },
      "execution_count": null,
      "outputs": []
    },
    {
      "cell_type": "markdown",
      "source": [
        "\n",
        "\n",
        "---\n",
        "\n",
        "\n",
        "\n",
        "2. Abstract Class Shape with Derived Classes Circle and Rectangle."
      ],
      "metadata": {
        "id": "j3trsrJZwlFA"
      }
    },
    {
      "cell_type": "code",
      "source": [
        "from abc import ABC, abstractmethod\n",
        "import math\n",
        "\n",
        "class Shape(ABC):\n",
        "    @abstractmethod\n",
        "    def area(self):\n",
        "        pass\n",
        "\n",
        "class Circle(Shape):\n",
        "    def __init__(self, radius):\n",
        "        self.radius = radius\n",
        "\n",
        "    def area(self):\n",
        "        return math.pi * self.radius ** 2\n",
        "\n",
        "class Rectangle(Shape):\n",
        "    def __init__(self, length, width):\n",
        "        self.length = length\n",
        "        self.width = width\n",
        "\n",
        "    def area(self):\n",
        "        return self.length * self.width\n",
        "\n",
        "# Example\n",
        "c = Circle(5)\n",
        "print(f\"Circle Area: {c.area()}\")\n",
        "\n",
        "r = Rectangle(4, 6)\n",
        "print(f\"Rectangle Area: {r.area()}\")\n"
      ],
      "metadata": {
        "id": "WubYS3Trwqq1"
      },
      "execution_count": null,
      "outputs": []
    },
    {
      "cell_type": "markdown",
      "source": [
        "\n",
        "\n",
        "---\n",
        "\n",
        "3. Multi-Level Inheritance: Vehicle, Car, and ElectricCar\n"
      ],
      "metadata": {
        "id": "VVelMM8Ywwig"
      }
    },
    {
      "cell_type": "code",
      "source": [
        "class Vehicle:\n",
        "    def __init__(self, vehicle_type):\n",
        "        self.vehicle_type = vehicle_type\n",
        "\n",
        "class Car(Vehicle):\n",
        "    def __init__(self, vehicle_type, brand):\n",
        "        super().__init__(vehicle_type)\n",
        "        self.brand = brand\n",
        "\n",
        "class ElectricCar(Car):\n",
        "    def __init__(self, vehicle_type, brand, battery_capacity):\n",
        "        super().__init__(vehicle_type, brand)\n",
        "        self.battery_capacity = battery_capacity\n",
        "\n",
        "# Example\n",
        "ecar = ElectricCar(\"Electric Vehicle\", \"Tesla\", \"100 kWh\")\n",
        "print(f\"Type: {ecar.vehicle_type}, Brand: {ecar.brand}, Battery: {ecar.battery_capacity}\")\n"
      ],
      "metadata": {
        "id": "YIXbwQbqw7q1"
      },
      "execution_count": null,
      "outputs": []
    },
    {
      "cell_type": "markdown",
      "source": [
        "\n",
        "\n",
        "---\n",
        "\n",
        "\n",
        "4. Encapsulation with BankAccount.\n"
      ],
      "metadata": {
        "id": "ac5OSm05xN4k"
      }
    },
    {
      "cell_type": "code",
      "source": [
        "class BankAccount:\n",
        "    def __init__(self):\n",
        "        self.__balance = 0\n",
        "\n",
        "    def deposit(self, amount):\n",
        "        self.__balance += amount\n",
        "\n",
        "    def withdraw(self, amount):\n",
        "        if amount > self.__balance:\n",
        "            print(\"Insufficient funds!\")\n",
        "        else:\n",
        "            self.__balance -= amount\n",
        "\n",
        "    def check_balance(self):\n",
        "        return self.__balance\n",
        "\n",
        "# Example\n",
        "account = BankAccount()\n",
        "account.deposit(500)\n",
        "account.withdraw(200)\n",
        "print(f\"Balance: {account.check_balance()}\")\n"
      ],
      "metadata": {
        "id": "Oy2nACfzxXJZ"
      },
      "execution_count": null,
      "outputs": []
    },
    {
      "cell_type": "markdown",
      "source": [
        "\n",
        "\n",
        "---\n",
        "\n",
        "\n",
        "5. Runtime Polymorphism with Instrument, Guitar, and Piano."
      ],
      "metadata": {
        "id": "JZaFJt0Cxac1"
      }
    },
    {
      "cell_type": "code",
      "source": [
        "class Instrument:\n",
        "    def play(self):\n",
        "        pass\n",
        "\n",
        "class Guitar(Instrument):\n",
        "    def play(self):\n",
        "        print(\"Playing the Guitar.\")\n",
        "\n",
        "class Piano(Instrument):\n",
        "    def play(self):\n",
        "        print(\"Playing the Piano.\")\n",
        "\n",
        "# Example\n",
        "instruments = [Guitar(), Piano()]\n",
        "for instrument in instruments:\n",
        "    instrument.play()\n"
      ],
      "metadata": {
        "id": "r3km6X4ixj7s"
      },
      "execution_count": null,
      "outputs": []
    },
    {
      "cell_type": "markdown",
      "source": [
        "\n",
        "\n",
        "---\n",
        "6. MathOperations with Class and Static Methods.\n"
      ],
      "metadata": {
        "id": "RmhnJuC1xnaX"
      }
    },
    {
      "cell_type": "code",
      "source": [
        "class MathOperations:\n",
        "    @classmethod\n",
        "    def add_numbers(cls, a, b):\n",
        "        return a + b\n",
        "\n",
        "    @staticmethod\n",
        "    def subtract_numbers(a, b):\n",
        "        return a - b\n",
        "\n",
        "# Example\n",
        "print(MathOperations.add_numbers(5, 10))\n",
        "print(MathOperations.subtract_numbers(10, 5))\n"
      ],
      "metadata": {
        "id": "WCcXlBFOxxmY"
      },
      "execution_count": null,
      "outputs": []
    },
    {
      "cell_type": "markdown",
      "source": [
        "\n",
        "\n",
        "---\n",
        "\n",
        "7. Counting Persons in a Person Class."
      ],
      "metadata": {
        "id": "Jb-lU9-Qx0oB"
      }
    },
    {
      "cell_type": "code",
      "source": [
        "class Person:\n",
        "    count = 0\n",
        "\n",
        "    def __init__(self, name):\n",
        "        self.name = name\n",
        "        Person.count += 1\n",
        "\n",
        "    @classmethod\n",
        "    def total_persons(cls):\n",
        "        return cls.count\n",
        "\n",
        "# Example\n",
        "p1 = Person(\"Amit\")\n",
        "p2 = Person(\"John\")\n",
        "print(f\"Total Persons: {Person.total_persons()}\")\n"
      ],
      "metadata": {
        "id": "0rebl0kEx6tT"
      },
      "execution_count": null,
      "outputs": []
    },
    {
      "cell_type": "markdown",
      "source": [
        "\n",
        "\n",
        "---\n",
        "\n",
        "8. Fraction Class with `__str__`"
      ],
      "metadata": {
        "id": "VHlmFeJTx9xl"
      }
    },
    {
      "cell_type": "code",
      "source": [
        "class Fraction:\n",
        "    def __init__(self, numerator, denominator):\n",
        "        self.numerator = numerator\n",
        "        self.denominator = denominator\n",
        "\n",
        "    def __str__(self):\n",
        "        return f\"{self.numerator}/{self.denominator}\"\n",
        "\n",
        "# Example\n",
        "f = Fraction(3, 4)\n",
        "print(f)\n"
      ],
      "metadata": {
        "id": "AmKhDV5HyEGh"
      },
      "execution_count": null,
      "outputs": []
    },
    {
      "cell_type": "markdown",
      "source": [
        "\n",
        "\n",
        "---\n",
        "\n",
        "\n",
        "9. Operator Overloading with Vector"
      ],
      "metadata": {
        "id": "OE-7xeYhyKqy"
      }
    },
    {
      "cell_type": "code",
      "source": [
        "class Vector:\n",
        "    def __init__(self, x, y):\n",
        "        self.x = x\n",
        "        self.y = y\n",
        "\n",
        "    def __add__(self, other):\n",
        "        return Vector(self.x + other.x, self.y + other.y)\n",
        "\n",
        "    def __str__(self):\n",
        "        return f\"Vector({self.x}, {self.y})\"\n",
        "\n",
        "# Example\n",
        "v1 = Vector(1, 2)\n",
        "v2 = Vector(3, 4)\n",
        "print(v1 + v2)\n"
      ],
      "metadata": {
        "id": "B4EiqAcDyQaX"
      },
      "execution_count": null,
      "outputs": []
    },
    {
      "cell_type": "markdown",
      "source": [
        "\n",
        "\n",
        "---\n",
        "\n",
        "10. Person Class with greet()."
      ],
      "metadata": {
        "id": "atF9WiU5yWud"
      }
    },
    {
      "cell_type": "code",
      "source": [
        "class Person:\n",
        "    def __init__(self, name, age):\n",
        "        self.name = name\n",
        "        self.age = age\n",
        "\n",
        "    def greet(self):\n",
        "        print(f\"Hello, my name is {self.name} and I am {self.age} years old.\")\n",
        "\n",
        "# Example\n",
        "p = Person(\"Amit\", 30)\n",
        "p.greet()\n"
      ],
      "metadata": {
        "id": "e98vbr2EydJm"
      },
      "execution_count": null,
      "outputs": []
    },
    {
      "cell_type": "markdown",
      "source": [
        "\n",
        "\n",
        "---\n",
        "\n",
        "11. Student with average_grade()."
      ],
      "metadata": {
        "id": "2YtrLIxpyh1U"
      }
    },
    {
      "cell_type": "code",
      "source": [
        "class Student:\n",
        "    def __init__(self, name, grades):\n",
        "        self.name = name\n",
        "        self.grades = grades\n",
        "\n",
        "    def average_grade(self):\n",
        "        return sum(self.grades) / len(self.grades)\n",
        "\n",
        "# Example\n",
        "s = Student(\"John\", [85, 90, 78])\n",
        "print(f\"Average Grade: {s.average_grade()}\")\n"
      ],
      "metadata": {
        "id": "vh3Hb3Qlypm9"
      },
      "execution_count": null,
      "outputs": []
    },
    {
      "cell_type": "markdown",
      "source": [
        "\n",
        "\n",
        "---\n",
        "12. Rectangle Class\n"
      ],
      "metadata": {
        "id": "tW2rKMaGyv1P"
      }
    },
    {
      "cell_type": "code",
      "source": [
        "class Rectangle:\n",
        "    def set_dimensions(self, length, width):\n",
        "        self.length = length\n",
        "        self.width = width\n",
        "\n",
        "    def area(self):\n",
        "        return self.length * self.width\n",
        "\n",
        "# Example\n",
        "rect = Rectangle()\n",
        "rect.set_dimensions(5, 3)\n",
        "print(f\"Area: {rect.area()}\")\n"
      ],
      "metadata": {
        "id": "azkkaSFry0g3"
      },
      "execution_count": null,
      "outputs": []
    },
    {
      "cell_type": "markdown",
      "source": [
        "\n",
        "\n",
        "---\n",
        "13. Employee and Manager Classes\n"
      ],
      "metadata": {
        "id": "9tf0aFbHy38t"
      }
    },
    {
      "cell_type": "code",
      "source": [
        "class Employee:\n",
        "    def __init__(self, hours_worked, hourly_rate):\n",
        "        self.hours_worked = hours_worked\n",
        "        self.hourly_rate = hourly_rate\n",
        "\n",
        "    def calculate_salary(self):\n",
        "        return self.hours_worked * self.hourly_rate\n",
        "\n",
        "class Manager(Employee):\n",
        "    def __init__(self, hours_worked, hourly_rate, bonus):\n",
        "        super().__init__(hours_worked, hourly_rate)\n",
        "        self.bonus = bonus\n",
        "\n",
        "    def calculate_salary(self):\n",
        "        return super().calculate_salary() + self.bonus\n",
        "\n",
        "# Example\n",
        "manager = Manager(40, 50, 1000)\n",
        "print(f\"Salary: {manager.calculate_salary()}\")\n"
      ],
      "metadata": {
        "id": "dbcKoOzzy8oT"
      },
      "execution_count": null,
      "outputs": []
    }
  ]
}